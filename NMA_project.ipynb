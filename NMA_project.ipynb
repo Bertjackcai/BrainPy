{
  "nbformat": 4,
  "nbformat_minor": 0,
  "metadata": {
    "colab": {
      "name": "NMA_project.ipynb",
      "provenance": [],
      "authorship_tag": "ABX9TyPuwS1Uinooutqs0XCKfC/b",
      "include_colab_link": true
    },
    "kernelspec": {
      "name": "python3",
      "display_name": "Python 3"
    },
    "language_info": {
      "name": "python"
    }
  },
  "cells": [
    {
      "cell_type": "markdown",
      "metadata": {
        "id": "view-in-github",
        "colab_type": "text"
      },
      "source": [
        "<a href=\"https://colab.research.google.com/github/Bertjackcai/BrainPy/blob/master/NMA_project.ipynb\" target=\"_parent\"><img src=\"https://colab.research.google.com/assets/colab-badge.svg\" alt=\"Open In Colab\"/></a>"
      ]
    },
    {
      "cell_type": "code",
      "metadata": {
        "id": "S4DN9uv2shwj",
        "colab": {
          "base_uri": "https://localhost:8080/"
        },
        "outputId": "8eb4f2fc-e218-4ad6-f364-431fc0405159"
      },
      "source": [
        "!pip install cryptography==3.3.2\n",
        "!pip install --quiet nma-ibl\n",
        "!pip install ssm\n",
        "!pip install scipy==1.2.1"
      ],
      "execution_count": null,
      "outputs": [
        {
          "output_type": "stream",
          "text": [
            "Collecting cryptography==3.3.2\n",
            "\u001b[?25l  Downloading https://files.pythonhosted.org/packages/c6/d1/800ec785c9e66cc6d0ac587bd666eb22f7b2ff6c150e053d35881acd2f57/cryptography-3.3.2-cp36-abi3-manylinux2010_x86_64.whl (2.6MB)\n",
            "\u001b[K     |████████████████████████████████| 2.6MB 19.4MB/s \n",
            "\u001b[?25hRequirement already satisfied: six>=1.4.1 in /usr/local/lib/python3.7/dist-packages (from cryptography==3.3.2) (1.15.0)\n",
            "Requirement already satisfied: cffi>=1.12 in /usr/local/lib/python3.7/dist-packages (from cryptography==3.3.2) (1.14.6)\n",
            "Requirement already satisfied: pycparser in /usr/local/lib/python3.7/dist-packages (from cffi>=1.12->cryptography==3.3.2) (2.20)\n",
            "Installing collected packages: cryptography\n",
            "Successfully installed cryptography-3.3.2\n",
            "\u001b[K     |████████████████████████████████| 102kB 9.1MB/s \n",
            "\u001b[K     |████████████████████████████████| 51kB 6.3MB/s \n",
            "\u001b[K     |████████████████████████████████| 81kB 8.0MB/s \n",
            "\u001b[?25hCollecting ssm\n",
            "\u001b[?25l  Downloading https://files.pythonhosted.org/packages/b0/87/f836d23ea3afcc860e8a31e4f04193735140c4fe86cfd0106ca5e81071db/ssm-0.0.1.tar.gz (309kB)\n",
            "\u001b[K     |████████████████████████████████| 317kB 29.2MB/s \n",
            "\u001b[?25hRequirement already satisfied: numpy in /usr/local/lib/python3.7/dist-packages (from ssm) (1.19.5)\n",
            "Requirement already satisfied: scipy in /usr/local/lib/python3.7/dist-packages (from ssm) (1.4.1)\n",
            "Requirement already satisfied: matplotlib in /usr/local/lib/python3.7/dist-packages (from ssm) (3.2.2)\n",
            "Requirement already satisfied: scikit-learn in /usr/local/lib/python3.7/dist-packages (from ssm) (0.22.2.post1)\n",
            "Requirement already satisfied: tqdm in /usr/local/lib/python3.7/dist-packages (from ssm) (4.41.1)\n",
            "Requirement already satisfied: autograd in /usr/local/lib/python3.7/dist-packages (from ssm) (1.3)\n",
            "Requirement already satisfied: pyparsing!=2.0.4,!=2.1.2,!=2.1.6,>=2.0.1 in /usr/local/lib/python3.7/dist-packages (from matplotlib->ssm) (2.4.7)\n",
            "Requirement already satisfied: kiwisolver>=1.0.1 in /usr/local/lib/python3.7/dist-packages (from matplotlib->ssm) (1.3.1)\n",
            "Requirement already satisfied: cycler>=0.10 in /usr/local/lib/python3.7/dist-packages (from matplotlib->ssm) (0.10.0)\n",
            "Requirement already satisfied: python-dateutil>=2.1 in /usr/local/lib/python3.7/dist-packages (from matplotlib->ssm) (2.8.1)\n",
            "Requirement already satisfied: joblib>=0.11 in /usr/local/lib/python3.7/dist-packages (from scikit-learn->ssm) (1.0.1)\n",
            "Requirement already satisfied: future>=0.15.2 in /usr/local/lib/python3.7/dist-packages (from autograd->ssm) (0.16.0)\n",
            "Requirement already satisfied: six in /usr/local/lib/python3.7/dist-packages (from cycler>=0.10->matplotlib->ssm) (1.15.0)\n",
            "Building wheels for collected packages: ssm\n",
            "  Building wheel for ssm (setup.py) ... \u001b[?25l\u001b[?25hdone\n",
            "  Created wheel for ssm: filename=ssm-0.0.1-cp37-cp37m-linux_x86_64.whl size=679444 sha256=6de4b561afad30c1762001e0c1ba26b53f7aa151592e827ee68c103eb30638dc\n",
            "  Stored in directory: /root/.cache/pip/wheels/7a/26/7f/279606a509bdc1b2bd8659632f406e1c5a8fe58b733a28c791\n",
            "Successfully built ssm\n",
            "Installing collected packages: ssm\n",
            "Successfully installed ssm-0.0.1\n",
            "Collecting scipy==1.2.1\n",
            "\u001b[?25l  Downloading https://files.pythonhosted.org/packages/3e/7e/5cee36eee5b3194687232f6150a89a38f784883c612db7f4da2ab190980d/scipy-1.2.1-cp37-cp37m-manylinux1_x86_64.whl (24.8MB)\n",
            "\u001b[K     |████████████████████████████████| 24.8MB 118kB/s \n",
            "\u001b[?25hRequirement already satisfied: numpy>=1.8.2 in /usr/local/lib/python3.7/dist-packages (from scipy==1.2.1) (1.19.5)\n",
            "\u001b[31mERROR: albumentations 0.1.12 has requirement imgaug<0.2.7,>=0.2.5, but you'll have imgaug 0.2.9 which is incompatible.\u001b[0m\n",
            "Installing collected packages: scipy\n",
            "  Found existing installation: scipy 1.4.1\n",
            "    Uninstalling scipy-1.4.1:\n",
            "      Successfully uninstalled scipy-1.4.1\n",
            "Successfully installed scipy-1.2.1\n"
          ],
          "name": "stdout"
        }
      ]
    },
    {
      "cell_type": "code",
      "metadata": {
        "colab": {
          "base_uri": "https://localhost:8080/"
        },
        "id": "aoL6JS7PqQ5U",
        "outputId": "065ae129-a785-4218-cfa2-b8d49b2a528f"
      },
      "source": [
        "# Download data needed for plot recreation\n",
        "!wget https://github.com/vathes/nma-ibl/raw/master/uuids_trained1.npy"
      ],
      "execution_count": null,
      "outputs": [
        {
          "output_type": "stream",
          "text": [
            "--2021-07-18 12:48:24--  https://github.com/vathes/nma-ibl/raw/master/uuids_trained1.npy\n",
            "Resolving github.com (github.com)... 140.82.112.4\n",
            "Connecting to github.com (github.com)|140.82.112.4|:443... connected.\n",
            "HTTP request sent, awaiting response... 302 Found\n",
            "Location: https://raw.githubusercontent.com/vathes/nma-ibl/master/uuids_trained1.npy [following]\n",
            "--2021-07-18 12:48:24--  https://raw.githubusercontent.com/vathes/nma-ibl/master/uuids_trained1.npy\n",
            "Resolving raw.githubusercontent.com (raw.githubusercontent.com)... 185.199.108.133, 185.199.109.133, 185.199.110.133, ...\n",
            "Connecting to raw.githubusercontent.com (raw.githubusercontent.com)|185.199.108.133|:443... connected.\n",
            "HTTP request sent, awaiting response... 200 OK\n",
            "Length: 3483 (3.4K) [application/octet-stream]\n",
            "Saving to: ‘uuids_trained1.npy’\n",
            "\n",
            "uuids_trained1.npy  100%[===================>]   3.40K  --.-KB/s    in 0s      \n",
            "\n",
            "2021-07-18 12:48:24 (52.5 MB/s) - ‘uuids_trained1.npy’ saved [3483/3483]\n",
            "\n"
          ],
          "name": "stdout"
        }
      ]
    },
    {
      "cell_type": "code",
      "metadata": {
        "id": "e7h9SFoNpg-P"
      },
      "source": [
        "import datajoint as dj\n",
        "dj.config['database.host'] = 'datajoint-public.internationalbrainlab.org'\n",
        "dj.config['database.user'] = 'nma-ibl-public'\n",
        "dj.config['database.password'] = 'ibl.pipeline.public.demo'\n"
      ],
      "execution_count": null,
      "outputs": []
    },
    {
      "cell_type": "code",
      "metadata": {
        "id": "AOESf3U4smZD",
        "colab": {
          "base_uri": "https://localhost:8080/"
        },
        "outputId": "ee9e917d-9012-464c-e7ee-36247c2a1317"
      },
      "source": [
        "# behavior data\n",
        "from nma_ibl import behavior\n",
        "# analysis result on behavioral data\n",
        "from nma_ibl import behavior_analyses\n",
        "# meta information about subjects and sessions\n",
        "from nma_ibl import subject, acquisition\n",
        "# A utility function to perform the model fits of the psychometric function\n",
        "from nma_ibl import psychofit as psy\n",
        "\n",
        "# some standard packages\n",
        "import numpy as np\n",
        "import datetime\n",
        "import seaborn as sns \n",
        "import matplotlib.pyplot as plt\n",
        "import numpy as np\n",
        "import numpy.random as npr\n",
        "import matplotlib.pyplot as plt\n",
        "import ssm\n",
        "import datajoint as dj\n",
        "from ssm.util import find_permutation"
      ],
      "execution_count": null,
      "outputs": [
        {
          "output_type": "stream",
          "text": [
            "Connecting nma-ibl-public@datajoint-public.internationalbrainlab.org:3306\n"
          ],
          "name": "stdout"
        }
      ]
    },
    {
      "cell_type": "code",
      "metadata": {
        "id": "FhlX-1nqvsy1"
      },
      "source": [
        "from nma_ibl import reference, subject, action, acquisition, data, behavior, behavior_analyses"
      ],
      "execution_count": null,
      "outputs": []
    },
    {
      "cell_type": "code",
      "metadata": {
        "colab": {
          "base_uri": "https://localhost:8080/",
          "height": 760
        },
        "id": "2ESCqqnk26WX",
        "outputId": "cace324c-abe7-44a8-92c9-9a31bdbc63ca"
      },
      "source": [
        "dj.Diagram(subject)"
      ],
      "execution_count": null,
      "outputs": [
        {
          "output_type": "execute_result",
          "data": {
            "text/plain": [
              "<datajoint.diagram.Diagram at 0x7f6baeeb68d0>"
            ],
            "image/svg+xml": "<svg height=\"540pt\" viewBox=\"0.00 0.00 1700.59 540.00\" width=\"1701pt\" xmlns=\"http://www.w3.org/2000/svg\" xmlns:xlink=\"http://www.w3.org/1999/xlink\">\n<g class=\"graph\" id=\"graph0\" transform=\"scale(1 1) rotate(0) translate(4 536)\">\n<title>%3</title>\n<polygon fill=\"#ffffff\" points=\"-4,4 -4,-536 1696.5865,-536 1696.5865,4 -4,4\" stroke=\"transparent\"/>\n<!-- 75 -->\n<g class=\"node\" id=\"node1\">\n<title>75</title>\n<ellipse cx=\"351.0865\" cy=\"-159.5\" fill=\"#ff8800\" fill-opacity=\"0.501961\" rx=\"2\" ry=\"2\" stroke=\"#ff8800\" stroke-opacity=\"0.501961\"/>\n<text fill=\"#ff8800\" font-family=\"arial\" font-size=\"1.00\" text-anchor=\"middle\" x=\"351.0865\" y=\"-159.2\">75</text>\n</g>\n<!-- subject.Litter -->\n<g class=\"node\" id=\"node34\">\n<title>subject.Litter</title>\n<g id=\"a_node34\"><a xlink:title=\"litter_name          \r------------------------------\r→ [nullable] subject.BreedingPair\r→ [nullable] subject.Line.proj(litter_line=&quot;line_name&quot;)\rlitter_uuid          \rlitter_descriptive_name=null \rlitter_description=null \rlitter_birth_date=null \rlitter_ts=CURRENT_TIMESTAMP \r\">\n<polygon fill=\"#00ff00\" fill-opacity=\"0.188235\" points=\"853.0865,-106 769.0865,-106 769.0865,-71 853.0865,-71 853.0865,-106\" stroke=\"#00ff00\" stroke-opacity=\"0.188235\"/>\n<text fill=\"#006400\" font-family=\"arial\" font-size=\"12.00\" text-anchor=\"start\" text-decoration=\"underline\" x=\"777.0865\" y=\"-86.4\">subject.Litter</text>\n</a>\n</g>\n</g>\n<!-- 75&#45;&gt;subject.Litter -->\n<g class=\"edge\" id=\"edge1\">\n<title>75-&gt;subject.Litter</title>\n<path d=\"M353.1374,-159.1835C379.8731,-155.0568 660.7811,-111.6993 768.9524,-95.0033\" fill=\"none\" stroke=\"#000000\" stroke-dasharray=\"5,2\" stroke-opacity=\"0.250980\" stroke-width=\".75\"/>\n</g>\n<!-- 70 -->\n<g class=\"node\" id=\"node2\">\n<title>70</title>\n<ellipse cx=\"187.0865\" cy=\"-301.5\" fill=\"#ff8800\" fill-opacity=\"0.501961\" rx=\"2\" ry=\"2\" stroke=\"#ff8800\" stroke-opacity=\"0.501961\"/>\n<text fill=\"#ff8800\" font-family=\"arial\" font-size=\"1.00\" text-anchor=\"middle\" x=\"187.0865\" y=\"-301.2\">70</text>\n</g>\n<!-- subject.BreedingPair -->\n<g class=\"node\" id=\"node25\">\n<title>subject.BreedingPair</title>\n<g id=\"a_node25\"><a xlink:title=\"bp_name              \r------------------------------\r→ [nullable] subject.Line.proj(bp_line=&quot;line_name&quot;)\rbp_uuid              \rbp_description=null  \rbp_start_date=null   \rbp_end_date=null     \r→ [nullable] subject.Subject.proj(father=&quot;subject_uuid&quot;)\r→ [nullable] subject.Subject.proj(mother1=&quot;subject_uuid&quot;)\r→ [nullable] subject.Subject.proj(mother2=&quot;subject_uuid&quot;)\rbreedingpair_ts=CURRENT_TIMESTAMP \r\">\n<polygon fill=\"#00ff00\" fill-opacity=\"0.188235\" points=\"875.0865,-177 747.0865,-177 747.0865,-142 875.0865,-142 875.0865,-177\" stroke=\"#00ff00\" stroke-opacity=\"0.188235\"/>\n<text fill=\"#006400\" font-family=\"arial\" font-size=\"12.00\" text-anchor=\"start\" text-decoration=\"underline\" x=\"755.0865\" y=\"-157.4\">subject.BreedingPair</text>\n</a>\n</g>\n</g>\n<!-- 70&#45;&gt;subject.BreedingPair -->\n<g class=\"edge\" id=\"edge2\">\n<title>70-&gt;subject.BreedingPair</title>\n<path d=\"M184.8775,-301.2191C161.7617,-298.203 -33.9108,-270.7728 20.0865,-213 44.8016,-186.5568 563.0726,-167.4449 747.0228,-161.4725\" fill=\"none\" stroke=\"#000000\" stroke-dasharray=\"5,2\" stroke-opacity=\"0.250980\" stroke-width=\".75\"/>\n</g>\n<!-- 73 -->\n<g class=\"node\" id=\"node3\">\n<title>73</title>\n<ellipse cx=\"793.0865\" cy=\"-230.5\" fill=\"#ff8800\" fill-opacity=\"0.501961\" rx=\"2\" ry=\"2\" stroke=\"#ff8800\" stroke-opacity=\"0.501961\"/>\n<text fill=\"#ff8800\" font-family=\"arial\" font-size=\"1.00\" text-anchor=\"middle\" x=\"793.0865\" y=\"-230.2\">73</text>\n</g>\n<!-- 73&#45;&gt;subject.BreedingPair -->\n<g class=\"edge\" id=\"edge3\">\n<title>73-&gt;subject.BreedingPair</title>\n<path d=\"M793.6058,-228.4517C795.4849,-221.0395 802.058,-195.1125 806.5857,-177.2532\" fill=\"none\" stroke=\"#000000\" stroke-dasharray=\"5,2\" stroke-opacity=\"0.250980\" stroke-width=\".75\"/>\n</g>\n<!-- 76 -->\n<g class=\"node\" id=\"node4\">\n<title>76</title>\n<ellipse cx=\"768.0865\" cy=\"-372.5\" fill=\"#ff8800\" fill-opacity=\"0.501961\" rx=\"2\" ry=\"2\" stroke=\"#ff8800\" stroke-opacity=\"0.501961\"/>\n<text fill=\"#ff8800\" font-family=\"arial\" font-size=\"1.00\" text-anchor=\"middle\" x=\"768.0865\" y=\"-372.2\">76</text>\n</g>\n<!-- subject.Subject -->\n<g class=\"node\" id=\"node31\">\n<title>subject.Subject</title>\n<g id=\"a_node31\"><a xlink:title=\"subject_uuid         \r------------------------------\rsubject_nickname     \rsex                  \rsubject_birth_date=null \rear_mark=null        \r→ [nullable] subject.Line.proj(subject_line=&quot;line_name&quot;)\rsubject_strain=null  \r→ [nullable] subject.Source.proj(subject_source=&quot;source_name&quot;)\rprotocol_number      \rsubject_description=null \rsubject_ts=CURRENT_TIMESTAMP \r\">\n<polygon fill=\"#00ff00\" fill-opacity=\"0.188235\" points=\"878.0865,-319 780.0865,-319 780.0865,-284 878.0865,-284 878.0865,-319\" stroke=\"#00ff00\" stroke-opacity=\"0.188235\"/>\n<text fill=\"#006400\" font-family=\"arial\" font-size=\"12.00\" text-anchor=\"start\" text-decoration=\"underline\" x=\"788.0865\" y=\"-299.4\">subject.Subject</text>\n</a>\n</g>\n</g>\n<!-- 76&#45;&gt;subject.Subject -->\n<g class=\"edge\" id=\"edge4\">\n<title>76-&gt;subject.Subject</title>\n<path d=\"M769.5944,-370.7449C775.6121,-363.7407 798.3352,-337.2925 813.8902,-319.1875\" fill=\"none\" stroke=\"#000000\" stroke-dasharray=\"5,2\" stroke-opacity=\"0.250980\" stroke-width=\".75\"/>\n</g>\n<!-- 77 -->\n<g class=\"node\" id=\"node5\">\n<title>77</title>\n<ellipse cx=\"857.0865\" cy=\"-372.5\" fill=\"#ff8800\" fill-opacity=\"0.501961\" rx=\"2\" ry=\"2\" stroke=\"#ff8800\" stroke-opacity=\"0.501961\"/>\n<text fill=\"#ff8800\" font-family=\"arial\" font-size=\"1.00\" text-anchor=\"middle\" x=\"857.0865\" y=\"-372.2\">77</text>\n</g>\n<!-- 77&#45;&gt;subject.Subject -->\n<g class=\"edge\" id=\"edge5\">\n<title>77-&gt;subject.Subject</title>\n<path d=\"M856.2787,-370.4517C853.3556,-363.0395 843.1309,-337.1125 836.0877,-319.2532\" fill=\"none\" stroke=\"#000000\" stroke-dasharray=\"5,2\" stroke-opacity=\"0.250980\" stroke-width=\".75\"/>\n</g>\n<!-- 71 -->\n<g class=\"node\" id=\"node6\">\n<title>71</title>\n<ellipse cx=\"829.0865\" cy=\"-230.5\" fill=\"#ff8800\" fill-opacity=\"0.501961\" rx=\"2\" ry=\"2\" stroke=\"#ff8800\" stroke-opacity=\"0.501961\"/>\n<text fill=\"#ff8800\" font-family=\"arial\" font-size=\"1.00\" text-anchor=\"middle\" x=\"829.0865\" y=\"-230.2\">71</text>\n</g>\n<!-- 71&#45;&gt;subject.BreedingPair -->\n<g class=\"edge\" id=\"edge6\">\n<title>71-&gt;subject.BreedingPair</title>\n<path d=\"M828.5672,-228.4517C826.688,-221.0395 820.115,-195.1125 815.5873,-177.2532\" fill=\"none\" stroke=\"#000000\" stroke-dasharray=\"5,2\" stroke-opacity=\"0.250980\" stroke-width=\".75\"/>\n</g>\n<!-- 72 -->\n<g class=\"node\" id=\"node7\">\n<title>72</title>\n<ellipse cx=\"865.0865\" cy=\"-230.5\" fill=\"#ff8800\" fill-opacity=\"0.501961\" rx=\"2\" ry=\"2\" stroke=\"#ff8800\" stroke-opacity=\"0.501961\"/>\n<text fill=\"#ff8800\" font-family=\"arial\" font-size=\"1.00\" text-anchor=\"middle\" x=\"865.0865\" y=\"-230.2\">72</text>\n</g>\n<!-- 72&#45;&gt;subject.BreedingPair -->\n<g class=\"edge\" id=\"edge7\">\n<title>72-&gt;subject.BreedingPair</title>\n<path d=\"M863.7516,-228.7449C858.4245,-221.7407 838.309,-195.2925 824.5389,-177.1875\" fill=\"none\" stroke=\"#000000\" stroke-dasharray=\"5,2\" stroke-opacity=\"0.250980\" stroke-width=\".75\"/>\n</g>\n<!-- subject.Housing -->\n<g class=\"node\" id=\"node8\">\n<title>subject.Housing</title>\n<g id=\"a_node8\"><a xlink:title=\"cage_name            \r------------------------------\rhousing_uuid         \r→ [nullable] subject.Food\r→ [nullable] subject.CageType\r→ [nullable] subject.Enrichment\rcage_cleaning_frequency=null \rlight_cycle=null     \rhousing_description=&quot;&quot; \rhousing_ts=CURRENT_TIMESTAMP \r\">\n<polygon fill=\"#00ff00\" fill-opacity=\"0.188235\" points=\"1605.5865,-319 1502.5865,-319 1502.5865,-284 1605.5865,-284 1605.5865,-319\" stroke=\"#00ff00\" stroke-opacity=\"0.188235\"/>\n<text fill=\"#006400\" font-family=\"arial\" font-size=\"12.00\" text-anchor=\"start\" text-decoration=\"underline\" x=\"1510.5865\" y=\"-299.4\">subject.Housing</text>\n</a>\n</g>\n</g>\n<!-- subject.SubjectHousing -->\n<g class=\"node\" id=\"node23\">\n<title>subject.SubjectHousing</title>\n<g id=\"a_node23\"><a xlink:title=\"→ subject.Subject\r→ subject.Housing\r------------------------------\rsubject_housing_uuid \rhousing_start_time   \rhousing_end_time=null \rsubject_housing_ts=CURRENT_TIMESTAMP \r\">\n<polygon fill=\"#00ff00\" fill-opacity=\"0.188235\" points=\"1625.5865,-248 1482.5865,-248 1482.5865,-213 1625.5865,-213 1625.5865,-248\" stroke=\"#00ff00\" stroke-opacity=\"0.188235\"/>\n<text fill=\"#006400\" font-family=\"arial\" font-size=\"12.00\" text-anchor=\"middle\" x=\"1554.0865\" y=\"-227.4\">subject.SubjectHousing</text>\n</a>\n</g>\n</g>\n<!-- subject.Housing&#45;&gt;subject.SubjectHousing -->\n<g class=\"edge\" id=\"edge8\">\n<title>subject.Housing-&gt;subject.SubjectHousing</title>\n<path d=\"M1554.0865,-283.9494C1554.0865,-273.1083 1554.0865,-259.2366 1554.0865,-248.3418\" fill=\"none\" stroke=\"#000000\" stroke-opacity=\"0.250980\" stroke-width=\".75\"/>\n</g>\n<!-- subject.UserHistory -->\n<g class=\"node\" id=\"node9\">\n<title>subject.UserHistory</title>\n<g id=\"a_node9\"><a xlink:title=\"→ subject.Subject\r→ reference.LabMember\r------------------------------\ruser_change_time=null \ruserhistory_ts=CURRENT_TIMESTAMP \r\">\n<polygon fill=\"#00ff00\" fill-opacity=\"0.188235\" points=\"1013.5865,-248 892.5865,-248 892.5865,-213 1013.5865,-213 1013.5865,-248\" stroke=\"#00ff00\" stroke-opacity=\"0.188235\"/>\n<text fill=\"#006400\" font-family=\"arial\" font-size=\"12.00\" text-anchor=\"middle\" x=\"953.0865\" y=\"-227.4\">subject.UserHistory</text>\n</a>\n</g>\n</g>\n<!-- subject.SubjectUser -->\n<g class=\"node\" id=\"node10\">\n<title>subject.SubjectUser</title>\n<g id=\"a_node10\"><a xlink:title=\"→ subject.Subject\r------------------------------\r→ reference.LabMember.proj(responsible_user=&quot;user_name&quot;)\rsubjectuser_ts=CURRENT_TIMESTAMP \r\">\n<polygon fill=\"#00ff00\" fill-opacity=\"0.188235\" points=\"1156.0865,-248 1032.0865,-248 1032.0865,-213 1156.0865,-213 1156.0865,-248\" stroke=\"#00ff00\" stroke-opacity=\"0.188235\"/>\n<text fill=\"#006400\" font-family=\"arial\" font-size=\"12.00\" text-anchor=\"middle\" x=\"1094.0865\" y=\"-227.4\">subject.SubjectUser</text>\n</a>\n</g>\n</g>\n<!-- subject.SubjectProject -->\n<g class=\"node\" id=\"node11\">\n<title>subject.SubjectProject</title>\n<g id=\"a_node11\"><a xlink:title=\"→ subject.Subject\r→ reference.Project.proj(subject_project=&quot;project_name&quot;)\r------------------------------\rsubjectproject_ts=CURRENT_TIMESTAMP \r\">\n<polygon fill=\"#00ff00\" fill-opacity=\"0.188235\" points=\"165.0865,-248 29.0865,-248 29.0865,-213 165.0865,-213 165.0865,-248\" stroke=\"#00ff00\" stroke-opacity=\"0.188235\"/>\n<text fill=\"#006400\" font-family=\"arial\" font-size=\"12.00\" text-anchor=\"middle\" x=\"97.0865\" y=\"-227.4\">subject.SubjectProject</text>\n</a>\n</g>\n</g>\n<!-- subject.Death -->\n<g class=\"node\" id=\"node12\">\n<title>subject.Death</title>\n<g id=\"a_node12\"><a xlink:title=\"→ subject.Subject\r------------------------------\rdeath_date           \rdeath_ts=CURRENT_TIMESTAMP \r\">\n<polygon fill=\"#00ff00\" fill-opacity=\"0.188235\" points=\"273.0865,-248 183.0865,-248 183.0865,-213 273.0865,-213 273.0865,-248\" stroke=\"#00ff00\" stroke-opacity=\"0.188235\"/>\n<text fill=\"#006400\" font-family=\"arial\" font-size=\"12.00\" text-anchor=\"middle\" x=\"228.0865\" y=\"-227.4\">subject.Death</text>\n</a>\n</g>\n</g>\n<!-- subject.CageType -->\n<g class=\"node\" id=\"node13\">\n<title>subject.CageType</title>\n<g id=\"a_node13\"><a xlink:title=\"cage_type_name       \r------------------------------\rcage_type_uuid       \rcage_type_description=&quot;&quot; \rcage_type_ts=CURRENT_TIMESTAMP \r\">\n<polygon fill=\"#000000\" fill-opacity=\"0.125490\" points=\"1601.5865,-390 1506.5865,-390 1506.5865,-355 1601.5865,-355 1601.5865,-390\" stroke=\"transparent\"/>\n<text fill=\"#000000\" font-family=\"arial\" font-size=\"10.00\" text-anchor=\"start\" text-decoration=\"underline\" x=\"1514.5865\" y=\"-371\">subject.CageType</text>\n</a>\n</g>\n</g>\n<!-- subject.CageType&#45;&gt;subject.Housing -->\n<g class=\"edge\" id=\"edge9\">\n<title>subject.CageType-&gt;subject.Housing</title>\n<path d=\"M1554.0865,-354.9494C1554.0865,-344.1083 1554.0865,-330.2366 1554.0865,-319.3418\" fill=\"none\" stroke=\"#000000\" stroke-dasharray=\"5,2\" stroke-opacity=\"0.250980\" stroke-width=\".75\"/>\n</g>\n<!-- subject.GenotypeTest -->\n<g class=\"node\" id=\"node14\">\n<title>subject.GenotypeTest</title>\n<g id=\"a_node14\"><a xlink:title=\"→ subject.Subject\r→ subject.Sequence\rgenotype_test_uuid   \r------------------------------\rtest_result          \rgenotypetest_ts=CURRENT_TIMESTAMP \r\">\n<polygon fill=\"#00ff00\" fill-opacity=\"0.188235\" points=\"1343.5865,-248 1212.5865,-248 1212.5865,-213 1343.5865,-213 1343.5865,-248\" stroke=\"#00ff00\" stroke-opacity=\"0.188235\"/>\n<text fill=\"#006400\" font-family=\"arial\" font-size=\"12.00\" text-anchor=\"start\" text-decoration=\"underline\" x=\"1220.5865\" y=\"-228.4\">subject.GenotypeTest</text>\n</a>\n</g>\n</g>\n<!-- subject.Sequence -->\n<g class=\"node\" id=\"node15\">\n<title>subject.Sequence</title>\n<g id=\"a_node15\"><a xlink:title=\"sequence_name        \r------------------------------\rsequence_uuid        \rbase_pairs=null      \rsequence_description=null \rsequence_ts=CURRENT_TIMESTAMP \r\">\n<polygon fill=\"#000000\" fill-opacity=\"0.125490\" points=\"1032.5865,-390 937.5865,-390 937.5865,-355 1032.5865,-355 1032.5865,-390\" stroke=\"transparent\"/>\n<text fill=\"#000000\" font-family=\"arial\" font-size=\"10.00\" text-anchor=\"start\" text-decoration=\"underline\" x=\"945.5865\" y=\"-371\">subject.Sequence</text>\n</a>\n</g>\n</g>\n<!-- subject.Sequence&#45;&gt;subject.GenotypeTest -->\n<g class=\"edge\" id=\"edge10\">\n<title>subject.Sequence-&gt;subject.GenotypeTest</title>\n<path d=\"M977.6651,-354.9536C970.6538,-335.2875 963.4602,-303.5971 980.0865,-284 1011.8517,-246.5589 1149.865,-257.2494 1198.0865,-248 1202.6942,-247.1162 1207.4433,-246.1694 1212.2209,-245.1907\" fill=\"none\" stroke=\"#000000\" stroke-opacity=\"0.250980\" stroke-width=\".75\"/>\n</g>\n<!-- subject.AlleleSequence -->\n<g class=\"node\" id=\"node18\">\n<title>subject.AlleleSequence</title>\n<g id=\"a_node18\"><a xlink:title=\"→ subject.Allele\r→ subject.Sequence\r------------------------------\rallelesequence_ts=CURRENT_TIMESTAMP \r\">\n<polygon fill=\"#000000\" fill-opacity=\"0.125490\" points=\"1219.5865,-319 1100.5865,-319 1100.5865,-284 1219.5865,-284 1219.5865,-319\" stroke=\"transparent\"/>\n<text fill=\"#000000\" font-family=\"arial\" font-size=\"10.00\" text-anchor=\"middle\" x=\"1160.0865\" y=\"-299\">subject.AlleleSequence</text>\n</a>\n</g>\n</g>\n<!-- subject.Sequence&#45;&gt;subject.AlleleSequence -->\n<g class=\"edge\" id=\"edge11\">\n<title>subject.Sequence-&gt;subject.AlleleSequence</title>\n<path d=\"M1028.3449,-354.9494C1055.2683,-344.0262 1089.7754,-330.0262 1116.7192,-319.0947\" fill=\"none\" stroke=\"#000000\" stroke-opacity=\"0.250980\" stroke-width=\".75\"/>\n</g>\n<!-- subject.LineAllele -->\n<g class=\"node\" id=\"node16\">\n<title>subject.LineAllele</title>\n<g id=\"a_node16\"><a xlink:title=\"→ subject.Line\r→ subject.Allele\r------------------------------\rlineallele_ts=CURRENT_TIMESTAMP \r\">\n<polygon fill=\"#000000\" fill-opacity=\"0.125490\" points=\"1082.5865,-319 989.5865,-319 989.5865,-284 1082.5865,-284 1082.5865,-319\" stroke=\"transparent\"/>\n<text fill=\"#000000\" font-family=\"arial\" font-size=\"10.00\" text-anchor=\"middle\" x=\"1036.0865\" y=\"-299\">subject.LineAllele</text>\n</a>\n</g>\n</g>\n<!-- subject.Line -->\n<g class=\"node\" id=\"node17\">\n<title>subject.Line</title>\n<g id=\"a_node17\"><a xlink:title=\"line_name            \r------------------------------\r→ subject.Species\r→ [nullable] subject.Strain\rline_uuid            \rline_description=null \rtarget_phenotype=null \rline_nickname        \ris_active            \rline_ts=CURRENT_TIMESTAMP \r\">\n<polygon fill=\"#000000\" fill-opacity=\"0.125490\" points=\"702.5865,-461 633.5865,-461 633.5865,-426 702.5865,-426 702.5865,-461\" stroke=\"transparent\"/>\n<text fill=\"#000000\" font-family=\"arial\" font-size=\"10.00\" text-anchor=\"start\" text-decoration=\"underline\" x=\"641.5865\" y=\"-442\">subject.Line</text>\n</a>\n</g>\n</g>\n<!-- subject.Line&#45;&gt;75 -->\n<g class=\"edge\" id=\"edge13\">\n<title>subject.Line-&gt;75</title>\n<path d=\"M633.4345,-439.0736C507.6018,-422.1843 78.4481,-357.1901 7.0865,-248 -1.4236,-234.9787 -3.0325,-224.8144 7.0865,-213 31.0698,-184.9984 321.8408,-161.7729 349.0479,-159.6571\" fill=\"none\" stroke=\"#000000\" stroke-dasharray=\"5,2\" stroke-opacity=\"0.250980\" stroke-width=\".75\"/>\n</g>\n<!-- subject.Line&#45;&gt;70 -->\n<g class=\"edge\" id=\"edge12\">\n<title>subject.Line-&gt;70</title>\n<path d=\"M633.4941,-433.2877C528.375,-402.2546 218.1014,-310.6562 189.2442,-302.137\" fill=\"none\" stroke=\"#000000\" stroke-dasharray=\"5,2\" stroke-opacity=\"0.250980\" stroke-width=\".75\"/>\n</g>\n<!-- subject.Line&#45;&gt;76 -->\n<g class=\"edge\" id=\"edge14\">\n<title>subject.Line-&gt;76</title>\n<path d=\"M692.8056,-425.9494C718.7168,-407.5524 756.9203,-380.428 766.0663,-373.9343\" fill=\"none\" stroke=\"#000000\" stroke-dasharray=\"5,2\" stroke-opacity=\"0.250980\" stroke-width=\".75\"/>\n</g>\n<!-- subject.Line&#45;&gt;subject.LineAllele -->\n<g class=\"edge\" id=\"edge15\">\n<title>subject.Line-&gt;subject.LineAllele</title>\n<path d=\"M702.6085,-429.5538C726.5153,-419.4865 758.8167,-405.0627 786.0865,-390 810.796,-376.3515 813.3625,-366.6239 839.0865,-355 888.1764,-332.8178 948.4223,-318.1161 989.2702,-309.8319\" fill=\"none\" stroke=\"#000000\" stroke-opacity=\"0.250980\" stroke-width=\".75\"/>\n</g>\n<!-- subject.Caging -->\n<g class=\"node\" id=\"node19\">\n<title>subject.Caging</title>\n<g id=\"a_node19\"><a xlink:title=\"→ subject.Subject\rcage_name            \r------------------------------\rcaging_time=null     \rcaging_ts=CURRENT_TIMESTAMP \r\">\n<polygon fill=\"#00ff00\" fill-opacity=\"0.188235\" points=\"388.5865,-248 291.5865,-248 291.5865,-213 388.5865,-213 388.5865,-248\" stroke=\"#00ff00\" stroke-opacity=\"0.188235\"/>\n<text fill=\"#006400\" font-family=\"arial\" font-size=\"12.00\" text-anchor=\"start\" text-decoration=\"underline\" x=\"299.5865\" y=\"-228.4\">subject.Caging</text>\n</a>\n</g>\n</g>\n<!-- subject.Food -->\n<g class=\"node\" id=\"node20\">\n<title>subject.Food</title>\n<g id=\"a_node20\"><a xlink:title=\"food_name            \r------------------------------\rfood_uuid            \rfood_description=&quot;&quot;  \rfood_ts=CURRENT_TIMESTAMP \r\">\n<polygon fill=\"#000000\" fill-opacity=\"0.125490\" points=\"1692.5865,-390 1619.5865,-390 1619.5865,-355 1692.5865,-355 1692.5865,-390\" stroke=\"transparent\"/>\n<text fill=\"#000000\" font-family=\"arial\" font-size=\"10.00\" text-anchor=\"start\" text-decoration=\"underline\" x=\"1627.5865\" y=\"-371\">subject.Food</text>\n</a>\n</g>\n</g>\n<!-- subject.Food&#45;&gt;subject.Housing -->\n<g class=\"edge\" id=\"edge16\">\n<title>subject.Food-&gt;subject.Housing</title>\n<path d=\"M1630.873,-354.9494C1615.1805,-344.0262 1595.0678,-330.0262 1579.3634,-319.0947\" fill=\"none\" stroke=\"#000000\" stroke-dasharray=\"5,2\" stroke-opacity=\"0.250980\" stroke-width=\".75\"/>\n</g>\n<!-- subject.Implant -->\n<g class=\"node\" id=\"node21\">\n<title>subject.Implant</title>\n<g id=\"a_node21\"><a xlink:title=\"→ subject.Subject\r------------------------------\rimplant_weight       \rprotocol_number      \radverse_effects=null \r→ [nullable] reference.Severity.proj(actual_severity=&quot;severity&quot;)\rimplant_ts=CURRENT_TIMESTAMP \r\">\n<polygon fill=\"#00ff00\" fill-opacity=\"0.188235\" points=\"503.5865,-248 406.5865,-248 406.5865,-213 503.5865,-213 503.5865,-248\" stroke=\"#00ff00\" stroke-opacity=\"0.188235\"/>\n<text fill=\"#006400\" font-family=\"arial\" font-size=\"12.00\" text-anchor=\"middle\" x=\"455.0865\" y=\"-227.4\">subject.Implant</text>\n</a>\n</g>\n</g>\n<!-- subject.Enrichment -->\n<g class=\"node\" id=\"node22\">\n<title>subject.Enrichment</title>\n<g id=\"a_node22\"><a xlink:title=\"enrichment_name      \r------------------------------\renrichment_uuid      \renrichment_description=&quot;&quot; \renrichment_ts=CURRENT_TIMESTAMP \r\">\n<polygon fill=\"#000000\" fill-opacity=\"0.125490\" points=\"1488.5865,-390 1387.5865,-390 1387.5865,-355 1488.5865,-355 1488.5865,-390\" stroke=\"transparent\"/>\n<text fill=\"#000000\" font-family=\"arial\" font-size=\"10.00\" text-anchor=\"start\" text-decoration=\"underline\" x=\"1395.5865\" y=\"-371\">subject.Enrichment</text>\n</a>\n</g>\n</g>\n<!-- subject.Enrichment&#45;&gt;subject.Housing -->\n<g class=\"edge\" id=\"edge17\">\n<title>subject.Enrichment-&gt;subject.Housing</title>\n<path d=\"M1466.7606,-354.9494C1484.607,-344.0262 1507.4803,-330.0262 1525.3402,-319.0947\" fill=\"none\" stroke=\"#000000\" stroke-dasharray=\"5,2\" stroke-opacity=\"0.250980\" stroke-width=\".75\"/>\n</g>\n<!-- subject.Allele -->\n<g class=\"node\" id=\"node24\">\n<title>subject.Allele</title>\n<g id=\"a_node24\"><a xlink:title=\"allele_name          \r------------------------------\rallele_uuid          \rstandard_name=null   \r→ [nullable] subject.Source\rallele_source=null   \rsource_identifier=null \rsource_url=null      \rexpression_data_url=null \rallele_ts=CURRENT_TIMESTAMP \r\">\n<polygon fill=\"#000000\" fill-opacity=\"0.125490\" points=\"1149.5865,-390 1074.5865,-390 1074.5865,-355 1149.5865,-355 1149.5865,-390\" stroke=\"transparent\"/>\n<text fill=\"#000000\" font-family=\"arial\" font-size=\"10.00\" text-anchor=\"start\" text-decoration=\"underline\" x=\"1082.5865\" y=\"-371\">subject.Allele</text>\n</a>\n</g>\n</g>\n<!-- subject.Allele&#45;&gt;subject.LineAllele -->\n<g class=\"edge\" id=\"edge18\">\n<title>subject.Allele-&gt;subject.LineAllele</title>\n<path d=\"M1093.3,-354.9494C1081.6075,-344.0262 1066.6216,-330.0262 1054.9203,-319.0947\" fill=\"none\" stroke=\"#000000\" stroke-opacity=\"0.250980\" stroke-width=\".75\"/>\n</g>\n<!-- subject.Allele&#45;&gt;subject.AlleleSequence -->\n<g class=\"edge\" id=\"edge19\">\n<title>subject.Allele-&gt;subject.AlleleSequence</title>\n<path d=\"M1123.9517,-354.9494C1131.2808,-344.1083 1140.6589,-330.2366 1148.0244,-319.3418\" fill=\"none\" stroke=\"#000000\" stroke-opacity=\"0.250980\" stroke-width=\".75\"/>\n</g>\n<!-- subject.Zygosity -->\n<g class=\"node\" id=\"node28\">\n<title>subject.Zygosity</title>\n<g id=\"a_node28\"><a xlink:title=\"→ subject.Subject\r→ subject.Allele\r------------------------------\rzygosity_uuid        \rzygosity             \rzygosity_ts=CURRENT_TIMESTAMP \r\">\n<polygon fill=\"#00ff00\" fill-opacity=\"0.188235\" points=\"1464.5865,-248 1361.5865,-248 1361.5865,-213 1464.5865,-213 1464.5865,-248\" stroke=\"#00ff00\" stroke-opacity=\"0.188235\"/>\n<text fill=\"#006400\" font-family=\"arial\" font-size=\"12.00\" text-anchor=\"middle\" x=\"1413.0865\" y=\"-227.4\">subject.Zygosity</text>\n</a>\n</g>\n</g>\n<!-- subject.Allele&#45;&gt;subject.Zygosity -->\n<g class=\"edge\" id=\"edge20\">\n<title>subject.Allele-&gt;subject.Zygosity</title>\n<path d=\"M1149.7628,-355.2857C1172.4859,-344.8632 1201.9915,-331.2585 1228.0865,-319 1279.8081,-294.703 1339.3937,-266.0855 1376.6523,-248.1153\" fill=\"none\" stroke=\"#000000\" stroke-opacity=\"0.250980\" stroke-width=\".75\"/>\n</g>\n<!-- subject.BreedingPair&#45;&gt;subject.Litter -->\n<g class=\"edge\" id=\"edge21\">\n<title>subject.BreedingPair-&gt;subject.Litter</title>\n<path d=\"M811.0865,-141.9494C811.0865,-131.1083 811.0865,-117.2366 811.0865,-106.3418\" fill=\"none\" stroke=\"#000000\" stroke-dasharray=\"5,2\" stroke-opacity=\"0.250980\" stroke-width=\".75\"/>\n</g>\n<!-- subject.LitterSubject -->\n<g class=\"node\" id=\"node26\">\n<title>subject.LitterSubject</title>\n<g id=\"a_node26\"><a xlink:title=\"→ subject.Subject\r------------------------------\r→ subject.Litter\rlittersubject_ts=CURRENT_TIMESTAMP \r\">\n<polygon fill=\"#00ff00\" fill-opacity=\"0.188235\" points=\"1068.5865,-35 943.5865,-35 943.5865,0 1068.5865,0 1068.5865,-35\" stroke=\"#00ff00\" stroke-opacity=\"0.188235\"/>\n<text fill=\"#006400\" font-family=\"arial\" font-size=\"12.00\" text-anchor=\"middle\" x=\"1006.0865\" y=\"-14.4\">subject.LitterSubject</text>\n</a>\n</g>\n</g>\n<!-- subject.Strain -->\n<g class=\"node\" id=\"node27\">\n<title>subject.Strain</title>\n<g id=\"a_node27\"><a xlink:title=\"strain_name          \r------------------------------\rstrain_uuid          \rstrain_description=null \rstrain_ts=CURRENT_TIMESTAMP \r\">\n<polygon fill=\"#000000\" fill-opacity=\"0.125490\" points=\"656.5865,-532 579.5865,-532 579.5865,-497 656.5865,-497 656.5865,-532\" stroke=\"transparent\"/>\n<text fill=\"#000000\" font-family=\"arial\" font-size=\"10.00\" text-anchor=\"start\" text-decoration=\"underline\" x=\"587.5865\" y=\"-513\">subject.Strain</text>\n</a>\n</g>\n</g>\n<!-- subject.Strain&#45;&gt;subject.Line -->\n<g class=\"edge\" id=\"edge22\">\n<title>subject.Strain-&gt;subject.Line</title>\n<path d=\"M630.446,-496.9494C638.0806,-486.1083 647.8495,-472.2366 655.5218,-461.3418\" fill=\"none\" stroke=\"#000000\" stroke-dasharray=\"5,2\" stroke-opacity=\"0.250980\" stroke-width=\".75\"/>\n</g>\n<!-- subject.Weaning -->\n<g class=\"node\" id=\"node29\">\n<title>subject.Weaning</title>\n<g id=\"a_node29\"><a xlink:title=\"→ subject.Subject\r------------------------------\rwean_date            \rweaning_ts=CURRENT_TIMESTAMP \r\">\n<polygon fill=\"#00ff00\" fill-opacity=\"0.188235\" points=\"628.0865,-248 522.0865,-248 522.0865,-213 628.0865,-213 628.0865,-248\" stroke=\"#00ff00\" stroke-opacity=\"0.188235\"/>\n<text fill=\"#006400\" font-family=\"arial\" font-size=\"12.00\" text-anchor=\"middle\" x=\"575.0865\" y=\"-227.4\">subject.Weaning</text>\n</a>\n</g>\n</g>\n<!-- subject.Species -->\n<g class=\"node\" id=\"node30\">\n<title>subject.Species</title>\n<g id=\"a_node30\"><a xlink:title=\"binomial             \r------------------------------\rspecies_uuid         \rspecies_nickname     \rspecies_ts=CURRENT_TIMESTAMP \r\">\n<polygon fill=\"#000000\" fill-opacity=\"0.125490\" points=\"761.0865,-532 675.0865,-532 675.0865,-497 761.0865,-497 761.0865,-532\" stroke=\"transparent\"/>\n<text fill=\"#000000\" font-family=\"arial\" font-size=\"10.00\" text-anchor=\"start\" text-decoration=\"underline\" x=\"683.0865\" y=\"-513\">subject.Species</text>\n</a>\n</g>\n</g>\n<!-- subject.Species&#45;&gt;subject.Line -->\n<g class=\"edge\" id=\"edge23\">\n<title>subject.Species-&gt;subject.Line</title>\n<path d=\"M705.7269,-496.9494C698.0924,-486.1083 688.3235,-472.2366 680.6511,-461.3418\" fill=\"none\" stroke=\"#000000\" stroke-dasharray=\"5,2\" stroke-opacity=\"0.250980\" stroke-width=\".75\"/>\n</g>\n<!-- subject.Subject&#45;&gt;73 -->\n<g class=\"edge\" id=\"edge26\">\n<title>subject.Subject-&gt;73</title>\n<path d=\"M820.1876,-283.9494C811.0261,-265.881 797.5961,-239.3939 794,-232.3017\" fill=\"none\" stroke=\"#000000\" stroke-dasharray=\"5,2\" stroke-opacity=\"0.250980\" stroke-width=\".75\"/>\n</g>\n<!-- subject.Subject&#45;&gt;71 -->\n<g class=\"edge\" id=\"edge24\">\n<title>subject.Subject-&gt;71</title>\n<path d=\"M829.0865,-283.9494C829.0865,-266.2095 829.0865,-240.3543 829.0865,-232.7077\" fill=\"none\" stroke=\"#000000\" stroke-dasharray=\"5,2\" stroke-opacity=\"0.250980\" stroke-width=\".75\"/>\n</g>\n<!-- subject.Subject&#45;&gt;72 -->\n<g class=\"edge\" id=\"edge25\">\n<title>subject.Subject-&gt;72</title>\n<path d=\"M837.9854,-283.9494C847.1468,-265.881 860.5769,-239.3939 864.1729,-232.3017\" fill=\"none\" stroke=\"#000000\" stroke-dasharray=\"5,2\" stroke-opacity=\"0.250980\" stroke-width=\".75\"/>\n</g>\n<!-- subject.Subject&#45;&gt;subject.UserHistory -->\n<g class=\"edge\" id=\"edge27\">\n<title>subject.Subject-&gt;subject.UserHistory</title>\n<path d=\"M859.7382,-283.9494C878.8153,-273.0262 903.266,-259.0262 922.3577,-248.0947\" fill=\"none\" stroke=\"#000000\" stroke-opacity=\"0.250980\" stroke-width=\".75\"/>\n</g>\n<!-- subject.Subject&#45;&gt;subject.SubjectUser -->\n<g class=\"edge\" id=\"edge28\">\n<title>subject.Subject-&gt;subject.SubjectUser</title>\n<path d=\"M878.3099,-288.3118C921.717,-276.682 985.1766,-259.6796 1032.0473,-247.1218\" fill=\"none\" stroke=\"#000000\" stroke-opacity=\"0.250980\" stroke-width=\"2\"/>\n</g>\n<!-- subject.Subject&#45;&gt;subject.SubjectProject -->\n<g class=\"edge\" id=\"edge29\">\n<title>subject.Subject-&gt;subject.SubjectProject</title>\n<path d=\"M779.9192,-299.8691C670.4944,-295.7191 398.7808,-282.5311 174.0865,-248 171.241,-247.5627 168.3442,-247.0794 165.4237,-246.5606\" fill=\"none\" stroke=\"#000000\" stroke-opacity=\"0.250980\" stroke-width=\".75\"/>\n</g>\n<!-- subject.Subject&#45;&gt;subject.Death -->\n<g class=\"edge\" id=\"edge30\">\n<title>subject.Subject-&gt;subject.Death</title>\n<path d=\"M779.89,-300.2383C683.4267,-296.9865 463.0718,-285.7147 282.0865,-248 279.1922,-247.3969 276.2346,-246.6948 273.2684,-245.9252\" fill=\"none\" stroke=\"#000000\" stroke-opacity=\"0.250980\" stroke-width=\"2\"/>\n</g>\n<!-- subject.Subject&#45;&gt;subject.GenotypeTest -->\n<g class=\"edge\" id=\"edge31\">\n<title>subject.Subject-&gt;subject.GenotypeTest</title>\n<path d=\"M878.1654,-294.1678C899.3604,-291.0152 924.4414,-287.3031 947.0865,-284 1058.6035,-267.7336 1087.1881,-268.0548 1198.0865,-248 1202.7033,-247.1651 1207.4592,-246.2546 1212.2416,-245.302\" fill=\"none\" stroke=\"#000000\" stroke-opacity=\"0.250980\" stroke-width=\".75\"/>\n</g>\n<!-- subject.Subject&#45;&gt;subject.Caging -->\n<g class=\"edge\" id=\"edge32\">\n<title>subject.Subject-&gt;subject.Caging</title>\n<path d=\"M780.0342,-298.2285C699.4195,-292.2279 534.1784,-277.2988 397.0865,-248 394.3532,-247.4159 391.5625,-246.7603 388.7568,-246.0548\" fill=\"none\" stroke=\"#000000\" stroke-opacity=\"0.250980\" stroke-width=\".75\"/>\n</g>\n<!-- subject.Subject&#45;&gt;subject.Implant -->\n<g class=\"edge\" id=\"edge33\">\n<title>subject.Subject-&gt;subject.Implant</title>\n<path d=\"M779.9862,-295.1328C717.5236,-286.5887 606.5328,-269.9169 513.0865,-248 510.0145,-247.2795 506.866,-246.4875 503.7011,-245.6508\" fill=\"none\" stroke=\"#000000\" stroke-opacity=\"0.250980\" stroke-width=\"2\"/>\n</g>\n<!-- subject.Subject&#45;&gt;subject.SubjectHousing -->\n<g class=\"edge\" id=\"edge34\">\n<title>subject.Subject-&gt;subject.SubjectHousing</title>\n<path d=\"M878.3355,-295.257C907.8206,-291.6529 946.0618,-287.2124 980.0865,-284 1198.8083,-263.3493 1255.6293,-279.2737 1473.0865,-248 1476.077,-247.5699 1479.1219,-247.0926 1482.1922,-246.5788\" fill=\"none\" stroke=\"#000000\" stroke-opacity=\"0.250980\" stroke-width=\".75\"/>\n</g>\n<!-- subject.Subject&#45;&gt;subject.LitterSubject -->\n<g class=\"edge\" id=\"edge35\">\n<title>subject.Subject-&gt;subject.LitterSubject</title>\n<path d=\"M878.437,-295.3439C969.5597,-283.7432 1155.8362,-258.8397 1165.0865,-248 1228.2014,-174.0404 1095.6534,-74.9566 1034.6435,-35.1466\" fill=\"none\" stroke=\"#000000\" stroke-opacity=\"0.250980\" stroke-width=\"2\"/>\n</g>\n<!-- subject.Subject&#45;&gt;subject.Zygosity -->\n<g class=\"edge\" id=\"edge36\">\n<title>subject.Subject-&gt;subject.Zygosity</title>\n<path d=\"M878.3649,-295.5507C907.8603,-292.0492 946.102,-287.6134 980.0865,-284 1145.2612,-266.4379 1188.9053,-279.0325 1352.0865,-248 1355.1171,-247.4237 1358.2144,-246.7641 1361.3277,-246.0463\" fill=\"none\" stroke=\"#000000\" stroke-opacity=\"0.250980\" stroke-width=\".75\"/>\n</g>\n<!-- subject.Subject&#45;&gt;subject.Weaning -->\n<g class=\"edge\" id=\"edge37\">\n<title>subject.Subject-&gt;subject.Weaning</title>\n<path d=\"M779.7473,-287.8007C740.9582,-277.019 685.5638,-261.5955 637.0865,-248 634.1789,-247.1846 631.1949,-246.3465 628.183,-245.4995\" fill=\"none\" stroke=\"#000000\" stroke-opacity=\"0.250980\" stroke-width=\"2\"/>\n</g>\n<!-- subject.SubjectLab -->\n<g class=\"node\" id=\"node33\">\n<title>subject.SubjectLab</title>\n<g id=\"a_node33\"><a xlink:title=\"→ subject.Subject\r------------------------------\r→ reference.Lab\rsubjectlab_ts=CURRENT_TIMESTAMP \r\">\n<polygon fill=\"#00ff00\" fill-opacity=\"0.188235\" points=\"765.5865,-248 646.5865,-248 646.5865,-213 765.5865,-213 765.5865,-248\" stroke=\"#00ff00\" stroke-opacity=\"0.188235\"/>\n<text fill=\"#006400\" font-family=\"arial\" font-size=\"12.00\" text-anchor=\"middle\" x=\"706.0865\" y=\"-227.4\">subject.SubjectLab</text>\n</a>\n</g>\n</g>\n<!-- subject.Subject&#45;&gt;subject.SubjectLab -->\n<g class=\"edge\" id=\"edge38\">\n<title>subject.Subject-&gt;subject.SubjectLab</title>\n<path d=\"M798.682,-283.9494C779.7587,-273.0262 755.5052,-259.0262 736.5675,-248.0947\" fill=\"none\" stroke=\"#000000\" stroke-opacity=\"0.250980\" stroke-width=\"2\"/>\n</g>\n<!-- subject.Source -->\n<g class=\"node\" id=\"node32\">\n<title>subject.Source</title>\n<g id=\"a_node32\"><a xlink:title=\"source_name          \r------------------------------\rsource_uuid          \rsource_description=null \rsource_ts=CURRENT_TIMESTAMP \r\">\n<polygon fill=\"#000000\" fill-opacity=\"0.125490\" points=\"998.0865,-461 916.0865,-461 916.0865,-426 998.0865,-426 998.0865,-461\" stroke=\"transparent\"/>\n<text fill=\"#000000\" font-family=\"arial\" font-size=\"10.00\" text-anchor=\"start\" text-decoration=\"underline\" x=\"924.0865\" y=\"-442\">subject.Source</text>\n</a>\n</g>\n</g>\n<!-- subject.Source&#45;&gt;77 -->\n<g class=\"edge\" id=\"edge39\">\n<title>subject.Source-&gt;77</title>\n<path d=\"M932.3674,-425.9494C906.4561,-407.5524 868.2526,-380.428 859.1066,-373.9343\" fill=\"none\" stroke=\"#000000\" stroke-dasharray=\"5,2\" stroke-opacity=\"0.250980\" stroke-width=\".75\"/>\n</g>\n<!-- subject.Source&#45;&gt;subject.Allele -->\n<g class=\"edge\" id=\"edge40\">\n<title>subject.Source-&gt;subject.Allele</title>\n<path d=\"M995.4011,-425.9494C1019.5165,-414.903 1050.5012,-400.71 1074.4803,-389.7261\" fill=\"none\" stroke=\"#000000\" stroke-dasharray=\"5,2\" stroke-opacity=\"0.250980\" stroke-width=\".75\"/>\n</g>\n<!-- subject.Litter&#45;&gt;subject.LitterSubject -->\n<g class=\"edge\" id=\"edge41\">\n<title>subject.Litter-&gt;subject.LitterSubject</title>\n<path d=\"M853.3986,-73.0941C884.0904,-61.9191 925.661,-46.7831 957.6768,-35.1261\" fill=\"none\" stroke=\"#000000\" stroke-dasharray=\"5,2\" stroke-opacity=\"0.250980\" stroke-width=\".75\"/>\n</g>\n</g>\n</svg>"
          },
          "metadata": {
            "tags": []
          },
          "execution_count": 14
        }
      ]
    },
    {
      "cell_type": "code",
      "metadata": {
        "id": "0coLURRBtu2O",
        "colab": {
          "base_uri": "https://localhost:8080/",
          "height": 267
        },
        "outputId": "c3ef1b45-0595-48c9-e36f-e40ec6b9e763"
      },
      "source": [
        "dj.Diagram(data)"
      ],
      "execution_count": null,
      "outputs": [
        {
          "output_type": "execute_result",
          "data": {
            "text/plain": [
              "<datajoint.diagram.Diagram at 0x7f6baf178f90>"
            ],
            "image/svg+xml": "<svg height=\"185pt\" viewBox=\"0.00 0.00 365.50 185.00\" width=\"366pt\" xmlns=\"http://www.w3.org/2000/svg\" xmlns:xlink=\"http://www.w3.org/1999/xlink\">\n<g class=\"graph\" id=\"graph0\" transform=\"scale(1 1) rotate(0) translate(4 181)\">\n<title>%3</title>\n<polygon fill=\"#ffffff\" points=\"-4,4 -4,-181 361.5,-181 361.5,4 -4,4\" stroke=\"transparent\"/>\n<!-- data.DataFormat -->\n<g class=\"node\" id=\"node1\">\n<title>data.DataFormat</title>\n<g id=\"a_node1\"><a xlink:title=\"format_name          \r------------------------------\rformat_uuid          \rfile_extension=&quot;&quot;    \rmatlab_loader_function=null \rpython_loader_function=null \rformat_description=null \rdataformat_ts=CURRENT_TIMESTAMP \r\">\n<polygon fill=\"#000000\" fill-opacity=\"0.125490\" points=\"89,-177 0,-177 0,-142 89,-142 89,-177\" stroke=\"transparent\"/>\n<text fill=\"#000000\" font-family=\"arial\" font-size=\"10.00\" text-anchor=\"start\" text-decoration=\"underline\" x=\"8\" y=\"-158\">data.DataFormat</text>\n</a>\n</g>\n</g>\n<!-- data.DataSet -->\n<g class=\"node\" id=\"node6\">\n<title>data.DataSet</title>\n<g id=\"a_node6\"><a xlink:title=\"→ acquisition.Session\rdataset_name         \r------------------------------\rdataset_uuid         \r→ [nullable] reference.LabMember.proj(dataset_created_by=&quot;user_name&quot;)\r→ data.DataSetType\r→ data.DataFormat\rcreated_datetime     \rgenerating_software=null \rprovenance_directory=null \rmd5=null             \rfile_size=null       \r\">\n<polygon fill=\"#00ff00\" fill-opacity=\"0.188235\" points=\"193.5,-106 107.5,-106 107.5,-71 193.5,-71 193.5,-106\" stroke=\"#00ff00\" stroke-opacity=\"0.188235\"/>\n<text fill=\"#006400\" font-family=\"arial\" font-size=\"12.00\" text-anchor=\"start\" text-decoration=\"underline\" x=\"115.5\" y=\"-86.4\">data.DataSet</text>\n</a>\n</g>\n</g>\n<!-- data.DataFormat&#45;&gt;data.DataSet -->\n<g class=\"edge\" id=\"edge1\">\n<title>data.DataFormat-&gt;data.DataSet</title>\n<path d=\"M70.7023,-141.9494C87.0101,-131.0262 107.9115,-117.0262 124.2318,-106.0947\" fill=\"none\" stroke=\"#000000\" stroke-dasharray=\"5,2\" stroke-opacity=\"0.250980\" stroke-width=\".75\"/>\n</g>\n<!-- data.FileRecord -->\n<g class=\"node\" id=\"node2\">\n<title>data.FileRecord</title>\n<g id=\"a_node2\"><a xlink:title=\"→ data.DataSet\r→ data.DataRepository\r------------------------------\rrecord_uuid          \rexists               \rrelative_path        \r\">\n<polygon fill=\"#00ff00\" fill-opacity=\"0.188235\" points=\"201.5,-35 99.5,-35 99.5,0 201.5,0 201.5,-35\" stroke=\"#00ff00\" stroke-opacity=\"0.188235\"/>\n<text fill=\"#006400\" font-family=\"arial\" font-size=\"12.00\" text-anchor=\"middle\" x=\"150.5\" y=\"-14.4\">data.FileRecord</text>\n</a>\n</g>\n</g>\n<!-- data.DataRepositoryType -->\n<g class=\"node\" id=\"node3\">\n<title>data.DataRepositoryType</title>\n<g id=\"a_node3\"><a xlink:title=\"repotype_name        \r------------------------------\rrepotype_uuid        \rdatarepositorytype_ts=CURRENT_TIMESTAMP \r\">\n<polygon fill=\"#000000\" fill-opacity=\"0.125490\" points=\"348.5,-177 222.5,-177 222.5,-142 348.5,-142 348.5,-177\" stroke=\"transparent\"/>\n<text fill=\"#000000\" font-family=\"arial\" font-size=\"10.00\" text-anchor=\"start\" text-decoration=\"underline\" x=\"230.5\" y=\"-158\">data.DataRepositoryType</text>\n</a>\n</g>\n</g>\n<!-- data.DataRepository -->\n<g class=\"node\" id=\"node5\">\n<title>data.DataRepository</title>\n<g id=\"a_node5\"><a xlink:title=\"repo_name            \r------------------------------\r→ data.DataRepositoryType\rrepo_uuid            \rrepo_timezone        \rrepo_hostname        \rglobus_endpoint_id   \rglobus_path          \rdata_url=null        \rglobus_is_personal   \rdatarepository_ts=CURRENT_TIMESTAMP \r\">\n<polygon fill=\"#000000\" fill-opacity=\"0.125490\" points=\"338,-106 233,-106 233,-71 338,-71 338,-106\" stroke=\"transparent\"/>\n<text fill=\"#000000\" font-family=\"arial\" font-size=\"10.00\" text-anchor=\"start\" text-decoration=\"underline\" x=\"241\" y=\"-87\">data.DataRepository</text>\n</a>\n</g>\n</g>\n<!-- data.DataRepositoryType&#45;&gt;data.DataRepository -->\n<g class=\"edge\" id=\"edge2\">\n<title>data.DataRepositoryType-&gt;data.DataRepository</title>\n<path d=\"M285.5,-141.9494C285.5,-131.1083 285.5,-117.2366 285.5,-106.3418\" fill=\"none\" stroke=\"#000000\" stroke-dasharray=\"5,2\" stroke-opacity=\"0.250980\" stroke-width=\".75\"/>\n</g>\n<!-- data.ProjectRepository -->\n<g class=\"node\" id=\"node4\">\n<title>data.ProjectRepository</title>\n<g id=\"a_node4\"><a xlink:title=\"→ reference.Project\r→ data.DataRepository\rprojectrepository=CURRENT_TIMESTAMP \r\">\n<polygon fill=\"#00ff00\" fill-opacity=\"0.188235\" points=\"357.5,-35 219.5,-35 219.5,0 357.5,0 357.5,-35\" stroke=\"#00ff00\" stroke-opacity=\"0.188235\"/>\n<text fill=\"#006400\" font-family=\"arial\" font-size=\"12.00\" text-anchor=\"start\" text-decoration=\"underline\" x=\"227.5\" y=\"-15.4\">data.ProjectRepository</text>\n</a>\n</g>\n</g>\n<!-- data.DataRepository&#45;&gt;data.FileRecord -->\n<g class=\"edge\" id=\"edge3\">\n<title>data.DataRepository-&gt;data.FileRecord</title>\n<path d=\"M252.1292,-70.9494C231.3597,-60.0262 204.74,-46.0262 183.9548,-35.0947\" fill=\"none\" stroke=\"#000000\" stroke-opacity=\"0.250980\" stroke-width=\".75\"/>\n</g>\n<!-- data.DataRepository&#45;&gt;data.ProjectRepository -->\n<g class=\"edge\" id=\"edge4\">\n<title>data.DataRepository-&gt;data.ProjectRepository</title>\n<path d=\"M286.2416,-70.9494C286.6996,-60.1083 287.2858,-46.2366 287.7461,-35.3418\" fill=\"none\" stroke=\"#000000\" stroke-opacity=\"0.250980\" stroke-width=\".75\"/>\n</g>\n<!-- data.DataSet&#45;&gt;data.FileRecord -->\n<g class=\"edge\" id=\"edge5\">\n<title>data.DataSet-&gt;data.FileRecord</title>\n<path d=\"M150.5,-70.9494C150.5,-60.1083 150.5,-46.2366 150.5,-35.3418\" fill=\"none\" stroke=\"#000000\" stroke-opacity=\"0.250980\" stroke-width=\".75\"/>\n</g>\n<!-- data.DataSetType -->\n<g class=\"node\" id=\"node7\">\n<title>data.DataSetType</title>\n<g id=\"a_node7\"><a xlink:title=\"dataset_type_name    \r------------------------------\rdataset_type_uuid    \r→ [nullable] reference.LabMember.proj(dataset_type_created_by=&quot;user_name&quot;)\rfilename_pattern     \rdataset_type_description=null \rdatasettype_ts=CURRENT_TIMESTAMP \r\">\n<polygon fill=\"#000000\" fill-opacity=\"0.125490\" points=\"202,-177 107,-177 107,-142 202,-142 202,-177\" stroke=\"transparent\"/>\n<text fill=\"#000000\" font-family=\"arial\" font-size=\"10.00\" text-anchor=\"start\" text-decoration=\"underline\" x=\"115\" y=\"-158\">data.DataSetType</text>\n</a>\n</g>\n</g>\n<!-- data.DataSetType&#45;&gt;data.DataSet -->\n<g class=\"edge\" id=\"edge6\">\n<title>data.DataSetType-&gt;data.DataSet</title>\n<path d=\"M153.5112,-141.9494C152.9005,-131.1083 152.119,-117.2366 151.5052,-106.3418\" fill=\"none\" stroke=\"#000000\" stroke-dasharray=\"5,2\" stroke-opacity=\"0.250980\" stroke-width=\".75\"/>\n</g>\n</g>\n</svg>"
          },
          "metadata": {
            "tags": []
          },
          "execution_count": 9
        }
      ]
    },
    {
      "cell_type": "code",
      "metadata": {
        "id": "QYLm6V39snDZ",
        "colab": {
          "base_uri": "https://localhost:8080/",
          "height": 78
        },
        "outputId": "40f22d86-1c3f-48af-904b-2dcf2b53c602"
      },
      "source": [
        "dj.Diagram(action)"
      ],
      "execution_count": null,
      "outputs": [
        {
          "output_type": "execute_result",
          "data": {
            "text/plain": [
              "<datajoint.diagram.Diagram at 0x7f6baf005fd0>"
            ],
            "image/svg+xml": "<svg height=\"43pt\" viewBox=\"0.00 0.00 142.00 43.00\" width=\"142pt\" xmlns=\"http://www.w3.org/2000/svg\" xmlns:xlink=\"http://www.w3.org/1999/xlink\">\n<g class=\"graph\" id=\"graph0\" transform=\"scale(1 1) rotate(0) translate(4 39)\">\n<title>%3</title>\n<polygon fill=\"#ffffff\" points=\"-4,4 -4,-39 138,-39 138,4 -4,4\" stroke=\"transparent\"/>\n<!-- action.ProcedureType -->\n<g class=\"node\" id=\"node1\">\n<title>action.ProcedureType</title>\n<g id=\"a_node1\"><a xlink:title=\"procedure_type_name  \r------------------------------\rprocedure_type_uuid  \rprocedure_type_description=null \rproceduretype_ts=CURRENT_TIMESTAMP \r\">\n<polygon fill=\"#00ff00\" fill-opacity=\"0.188235\" points=\"134,-35 0,-35 0,0 134,0 134,-35\" stroke=\"#00ff00\" stroke-opacity=\"0.188235\"/>\n<text fill=\"#006400\" font-family=\"arial\" font-size=\"12.00\" text-anchor=\"start\" text-decoration=\"underline\" x=\"8\" y=\"-15.4\">action.ProcedureType</text>\n</a>\n</g>\n</g>\n</g>\n</svg>"
          },
          "metadata": {
            "tags": []
          },
          "execution_count": 10
        }
      ]
    },
    {
      "cell_type": "code",
      "metadata": {
        "colab": {
          "base_uri": "https://localhost:8080/",
          "height": 266
        },
        "id": "NDMbm20m2U5f",
        "outputId": "9738f207-a40f-4ac7-dc9a-bb30c27c985c"
      },
      "source": [
        "dj.Diagram(behavior)"
      ],
      "execution_count": null,
      "outputs": [
        {
          "output_type": "execute_result",
          "data": {
            "text/plain": [
              "<datajoint.diagram.Diagram at 0x7f6baf0363d0>"
            ],
            "image/svg+xml": "<svg height=\"169pt\" viewBox=\"0.00 0.00 1783.00 169.00\" width=\"1783pt\" xmlns=\"http://www.w3.org/2000/svg\" xmlns:xlink=\"http://www.w3.org/1999/xlink\">\n<g class=\"graph\" id=\"graph0\" transform=\"scale(1 1) rotate(0) translate(4 165)\">\n<title>%3</title>\n<polygon fill=\"#ffffff\" points=\"-4,4 -4,-165 1779,-165 1779,4 -4,4\" stroke=\"transparent\"/>\n<!-- behavior.SessionDelay -->\n<g class=\"node\" id=\"node1\">\n<title>behavior.SessionDelay</title>\n<g id=\"a_node1\"><a xlink:title=\"→ acquisition.Session\r------------------------------\rsession_delay_in_secs \rsession_delay_in_mins \r\">\n<ellipse cx=\"87.5\" cy=\"-143.5\" fill=\"#00007f\" fill-opacity=\"0.250980\" rx=\"87.5\" ry=\"17.5\" stroke=\"#00007f\" stroke-opacity=\"0.250980\"/>\n<text fill=\"#00007f\" font-family=\"arial\" font-size=\"12.00\" text-anchor=\"middle\" x=\"87.5\" y=\"-140.4\">behavior.SessionDelay</text>\n</a>\n</g>\n</g>\n<!-- behavior.TrialSet -->\n<g class=\"node\" id=\"node2\">\n<title>behavior.TrialSet</title>\n<g id=\"a_node2\"><a xlink:title=\"→ acquisition.Session\r------------------------------\rn_trials             \rn_correct_trials=null \rtrials_start_time    \rtrials_end_time      \r\">\n<ellipse cx=\"259.5\" cy=\"-143.5\" fill=\"#00007f\" fill-opacity=\"0.250980\" rx=\"66.7502\" ry=\"17.5\" stroke=\"#00007f\" stroke-opacity=\"0.250980\"/>\n<text fill=\"#00007f\" font-family=\"arial\" font-size=\"12.00\" text-anchor=\"middle\" x=\"259.5\" y=\"-140.4\">behavior.TrialSet</text>\n</a>\n</g>\n</g>\n<!-- behavior.TrialSet.Trial -->\n<g class=\"node\" id=\"node3\">\n<title>behavior.TrialSet.Trial</title>\n<g id=\"a_node3\"><a xlink:title=\"→ behavior.TrialSet\rtrial_id             \r------------------------------\rtrial_start_time     \rtrial_end_time       \rtrial_response_time=null \rtrial_response_choice \rtrial_stim_on_time=null \rtrial_stim_contrast_left \rtrial_stim_contrast_right \rtrial_feedback_time=null \rtrial_feedback_type=null \rtrial_rep_num=null   \rtrial_go_cue_time=null \rtrial_go_cue_trigger_time=null \rtrial_stim_prob_left \rtrial_reward_volume=null \rtrial_iti_duration=null \rtrial_included=null  \r\">\n<polygon fill=\"transparent\" points=\"357,-90 246,-90 246,-71 357,-71 357,-90\" stroke=\"transparent\"/>\n<text fill=\"#000000\" font-family=\"arial\" font-size=\"10.00\" text-anchor=\"start\" text-decoration=\"underline\" x=\"254\" y=\"-79\">behavior.TrialSet.Trial</text>\n</a>\n</g>\n</g>\n<!-- behavior.TrialSet&#45;&gt;behavior.TrialSet.Trial -->\n<g class=\"edge\" id=\"edge1\">\n<title>behavior.TrialSet-&gt;behavior.TrialSet.Trial</title>\n<path d=\"M271.1993,-125.951C278.8694,-114.4459 288.6139,-99.8292 294.9505,-90.3243\" fill=\"none\" stroke=\"#000000\" stroke-opacity=\"0.250980\" stroke-width=\".75\"/>\n</g>\n<!-- behavior.TrialSet.ExcludedTrial -->\n<g class=\"node\" id=\"node6\">\n<title>behavior.TrialSet.ExcludedTrial</title>\n<g id=\"a_node6\"><a xlink:title=\"→ behavior.TrialSet\r→ behavior.TrialSet.Trial\r\">\n<polygon fill=\"transparent\" points=\"293.5,-27 141.5,-27 141.5,-8 293.5,-8 293.5,-27\" stroke=\"transparent\"/>\n<text fill=\"#000000\" font-family=\"arial\" font-size=\"10.00\" text-anchor=\"middle\" x=\"217.5\" y=\"-15\">behavior.TrialSet.ExcludedTrial</text>\n</a>\n</g>\n</g>\n<!-- behavior.TrialSet&#45;&gt;behavior.TrialSet.ExcludedTrial -->\n<g class=\"edge\" id=\"edge2\">\n<title>behavior.TrialSet-&gt;behavior.TrialSet.ExcludedTrial</title>\n<path d=\"M251.621,-125.872C247.1613,-115.5377 241.6613,-102.1627 237.5,-90 229.9764,-68.0101 223.2461,-41.5491 219.8433,-27.4658\" fill=\"none\" stroke=\"#000000\" stroke-opacity=\"0.250980\" stroke-width=\".75\"/>\n</g>\n<!-- behavior.TrialSet.Trial&#45;&gt;behavior.TrialSet.ExcludedTrial -->\n<g class=\"edge\" id=\"edge3\">\n<title>behavior.TrialSet.Trial-&gt;behavior.TrialSet.ExcludedTrial</title>\n<path d=\"M288.7422,-70.9317C272.954,-59.0905 246.2213,-39.041 230.3779,-27.1584\" fill=\"none\" stroke=\"#000000\" stroke-opacity=\"0.250980\" stroke-width=\"2\"/>\n</g>\n<!-- behavior.AmbientSensorData -->\n<g class=\"node\" id=\"node10\">\n<title>behavior.AmbientSensorData</title>\n<g id=\"a_node10\"><a xlink:title=\"→ behavior.TrialSet.Trial\r------------------------------\rtemperature_c        \rair_pressure_mb      \rrelative_humidity=null \r\">\n<ellipse cx=\"419.5\" cy=\"-17.5\" fill=\"#00007f\" fill-opacity=\"0.250980\" rx=\"108.2501\" ry=\"17.5\" stroke=\"#00007f\" stroke-opacity=\"0.250980\"/>\n<text fill=\"#00007f\" font-family=\"arial\" font-size=\"12.00\" text-anchor=\"middle\" x=\"419.5\" y=\"-14.4\">behavior.AmbientSensorData</text>\n</a>\n</g>\n</g>\n<!-- behavior.TrialSet.Trial&#45;&gt;behavior.AmbientSensorData -->\n<g class=\"edge\" id=\"edge4\">\n<title>behavior.TrialSet.Trial-&gt;behavior.AmbientSensorData</title>\n<path d=\"M319.4217,-70.9317C337.603,-61.2247 366.1162,-46.0015 388.0646,-34.2833\" fill=\"none\" stroke=\"#000000\" stroke-opacity=\"0.250980\" stroke-width=\"2\"/>\n</g>\n<!-- behavior.SettingsAvailability -->\n<g class=\"node\" id=\"node4\">\n<title>behavior.SettingsAvailability</title>\n<g id=\"a_node4\"><a xlink:title=\"→ acquisition.Session\r------------------------------\rerror_type           \r\">\n<ellipse cx=\"448.5\" cy=\"-143.5\" fill=\"#00007f\" fill-opacity=\"0.250980\" rx=\"104.2501\" ry=\"17.5\" stroke=\"#00007f\" stroke-opacity=\"0.250980\"/>\n<text fill=\"#00007f\" font-family=\"arial\" font-size=\"12.00\" text-anchor=\"middle\" x=\"448.5\" y=\"-140.4\">behavior.SettingsAvailability</text>\n</a>\n</g>\n</g>\n<!-- behavior.CompleteWheelSession -->\n<g class=\"node\" id=\"node5\">\n<title>behavior.CompleteWheelSession</title>\n<g id=\"a_node5\"><a xlink:title=\"→ acquisition.Session\r------------------------------\rwheel_velocity_status \r\">\n<ellipse cx=\"668.5\" cy=\"-143.5\" fill=\"#ff0000\" fill-opacity=\"0.125490\" rx=\"13\" ry=\"13\" stroke=\"#ff0000\" stroke-opacity=\"0.125490\"/>\n<text fill=\"#7f0000\" font-family=\"arial\" font-size=\"12.00\" text-anchor=\"middle\" x=\"668.5\" y=\"-140.4\">behavior.CompleteWheelSession</text>\n</a>\n</g>\n</g>\n<!-- behavior.CompleteTrialSession -->\n<g class=\"node\" id=\"node7\">\n<title>behavior.CompleteTrialSession</title>\n<g id=\"a_node7\"><a xlink:title=\"→ acquisition.Session\r------------------------------\rstim_on_times_status \rrep_num_status       \rincluded_status      \rambient_sensor_data_status \rgo_cue_times_status  \rgo_cue_trigger_times_status \rreward_volume_status \riti_duration_status  \r\">\n<ellipse cx=\"876.5\" cy=\"-143.5\" fill=\"#ff0000\" fill-opacity=\"0.125490\" rx=\"13\" ry=\"13\" stroke=\"#ff0000\" stroke-opacity=\"0.125490\"/>\n<text fill=\"#7f0000\" font-family=\"arial\" font-size=\"12.00\" text-anchor=\"middle\" x=\"876.5\" y=\"-140.4\">behavior.CompleteTrialSession</text>\n</a>\n</g>\n</g>\n<!-- behavior.SessionDelayAvailability -->\n<g class=\"node\" id=\"node8\">\n<title>behavior.SessionDelayAvailability</title>\n<g id=\"a_node8\"><a xlink:title=\"→ acquisition.Session\r------------------------------\rerror_type           \r\">\n<ellipse cx=\"1110.5\" cy=\"-143.5\" fill=\"#00007f\" fill-opacity=\"0.250980\" rx=\"124.2501\" ry=\"17.5\" stroke=\"#00007f\" stroke-opacity=\"0.250980\"/>\n<text fill=\"#00007f\" font-family=\"arial\" font-size=\"12.00\" text-anchor=\"middle\" x=\"1110.5\" y=\"-140.4\">behavior.SessionDelayAvailability</text>\n</a>\n</g>\n</g>\n<!-- behavior.Settings -->\n<g class=\"node\" id=\"node9\">\n<title>behavior.Settings</title>\n<g id=\"a_node9\"><a xlink:title=\"→ acquisition.Session\r------------------------------\rpybpod_board         \r\">\n<ellipse cx=\"1321.5\" cy=\"-143.5\" fill=\"#00007f\" fill-opacity=\"0.250980\" rx=\"68.2502\" ry=\"17.5\" stroke=\"#00007f\" stroke-opacity=\"0.250980\"/>\n<text fill=\"#00007f\" font-family=\"arial\" font-size=\"12.00\" text-anchor=\"middle\" x=\"1321.5\" y=\"-140.4\">behavior.Settings</text>\n</a>\n</g>\n</g>\n<!-- behavior.CompleteWheelMoveSession -->\n<g class=\"node\" id=\"node11\">\n<title>behavior.CompleteWheelMoveSession</title>\n<g id=\"a_node11\"><a xlink:title=\"→ acquisition.Session\r\">\n<ellipse cx=\"1519.5\" cy=\"-143.5\" fill=\"#ff0000\" fill-opacity=\"0.125490\" rx=\"13\" ry=\"13\" stroke=\"#ff0000\" stroke-opacity=\"0.125490\"/>\n<text fill=\"#7f0000\" font-family=\"arial\" font-size=\"12.00\" text-anchor=\"middle\" x=\"1519.5\" y=\"-140.4\">behavior.CompleteWheelMoveSession</text>\n</a>\n</g>\n</g>\n<!-- behavior.Wheel -->\n<g class=\"node\" id=\"node12\">\n<title>behavior.Wheel</title>\n<g id=\"a_node12\"><a xlink:title=\"→ acquisition.Session\r------------------------------\rwheel_start_time     \rwheel_end_time       \rwheel_duration       \rwheel_sampling_rate  \r\">\n<ellipse cx=\"1712.5\" cy=\"-143.5\" fill=\"#00007f\" fill-opacity=\"0.250980\" rx=\"62.5\" ry=\"17.5\" stroke=\"#00007f\" stroke-opacity=\"0.250980\"/>\n<text fill=\"#00007f\" font-family=\"arial\" font-size=\"12.00\" text-anchor=\"middle\" x=\"1712.5\" y=\"-140.4\">behavior.Wheel</text>\n</a>\n</g>\n</g>\n</g>\n</svg>"
          },
          "metadata": {
            "tags": []
          },
          "execution_count": 12
        }
      ]
    },
    {
      "cell_type": "code",
      "metadata": {
        "colab": {
          "base_uri": "https://localhost:8080/",
          "height": 287
        },
        "id": "au9TxO_R2oIx",
        "outputId": "53787afc-d34c-4c17-b2e8-95b4e336f6dc"
      },
      "source": [
        "dj.Diagram(acquisition)"
      ],
      "execution_count": null,
      "outputs": [
        {
          "output_type": "execute_result",
          "data": {
            "text/plain": [
              "<datajoint.diagram.Diagram at 0x7f6baee707d0>"
            ],
            "image/svg+xml": "<svg height=\"185pt\" viewBox=\"0.00 0.00 598.00 185.00\" width=\"598pt\" xmlns=\"http://www.w3.org/2000/svg\" xmlns:xlink=\"http://www.w3.org/1999/xlink\">\n<g class=\"graph\" id=\"graph0\" transform=\"scale(1 1) rotate(0) translate(4 181)\">\n<title>%3</title>\n<polygon fill=\"#ffffff\" points=\"-4,4 -4,-181 594,-181 594,4 -4,4\" stroke=\"transparent\"/>\n<!-- 48 -->\n<g class=\"node\" id=\"node1\">\n<title>48</title>\n<ellipse cx=\"9\" cy=\"-88.5\" fill=\"#ff8800\" fill-opacity=\"0.501961\" rx=\"2\" ry=\"2\" stroke=\"#ff8800\" stroke-opacity=\"0.501961\"/>\n<text fill=\"#ff8800\" font-family=\"arial\" font-size=\"1.00\" text-anchor=\"middle\" x=\"9\" y=\"-88.2\">48</text>\n</g>\n<!-- acquisition.ChildSession -->\n<g class=\"node\" id=\"node5\">\n<title>acquisition.ChildSession</title>\n<g id=\"a_node5\"><a xlink:title=\"→ acquisition.Session\r------------------------------\r→ acquisition.Session.proj(parent_session_start_time=&quot;session_start_time&quot;)\rchildsession_ts=CURRENT_TIMESTAMP \r\">\n<polygon fill=\"#00ff00\" fill-opacity=\"0.188235\" points=\"280.5,-35 131.5,-35 131.5,0 280.5,0 280.5,-35\" stroke=\"#00ff00\" stroke-opacity=\"0.188235\"/>\n<text fill=\"#006400\" font-family=\"arial\" font-size=\"12.00\" text-anchor=\"middle\" x=\"206\" y=\"-14.4\">acquisition.ChildSession</text>\n</a>\n</g>\n</g>\n<!-- 48&#45;&gt;acquisition.ChildSession -->\n<g class=\"edge\" id=\"edge1\">\n<title>48-&gt;acquisition.ChildSession</title>\n<path d=\"M10.4594,-86.56C13.2668,-82.9621 19.7835,-75.2367 27,-71 58.8865,-52.2798 97.8703,-39.623 131.3073,-31.3417\" fill=\"none\" stroke=\"#000000\" stroke-dasharray=\"5,2\" stroke-opacity=\"0.250980\" stroke-width=\".75\"/>\n</g>\n<!-- acquisition.SessionUser -->\n<g class=\"node\" id=\"node2\">\n<title>acquisition.SessionUser</title>\n<g id=\"a_node2\"><a xlink:title=\"→ acquisition.Session\r→ reference.LabMember\r------------------------------\rsessionuser_ts=CURRENT_TIMESTAMP \r\">\n<polygon fill=\"#00ff00\" fill-opacity=\"0.188235\" points=\"182,-106 36,-106 36,-71 182,-71 182,-106\" stroke=\"#00ff00\" stroke-opacity=\"0.188235\"/>\n<text fill=\"#006400\" font-family=\"arial\" font-size=\"12.00\" text-anchor=\"middle\" x=\"109\" y=\"-85.4\">acquisition.SessionUser</text>\n</a>\n</g>\n</g>\n<!-- acquisition.SessionProcedure -->\n<g class=\"node\" id=\"node3\">\n<title>acquisition.SessionProcedure</title>\n<g id=\"a_node3\"><a xlink:title=\"→ acquisition.Session\r→ action.ProcedureType\r------------------------------\rsessionprocedure_ts=CURRENT_TIMESTAMP \r\">\n<polygon fill=\"#00ff00\" fill-opacity=\"0.188235\" points=\"376,-106 200,-106 200,-71 376,-71 376,-106\" stroke=\"#00ff00\" stroke-opacity=\"0.188235\"/>\n<text fill=\"#006400\" font-family=\"arial\" font-size=\"12.00\" text-anchor=\"middle\" x=\"288\" y=\"-85.4\">acquisition.SessionProcedure</text>\n</a>\n</g>\n</g>\n<!-- acquisition.Session -->\n<g class=\"node\" id=\"node4\">\n<title>acquisition.Session</title>\n<g id=\"a_node4\"><a xlink:title=\"→ subject.Subject\rsession_start_time   \r------------------------------\rsession_uuid         \rsession_number=null  \rsession_end_time=null \r→ [nullable] reference.LabLocation.proj(session_lab=&quot;lab_name&quot;,session_location=&quot;location_name&quot;)\rtask_protocol=null   \rsession_type=null    \rsession_narrative=null \rsession_ts=CURRENT_TIMESTAMP \r\">\n<polygon fill=\"#00ff00\" fill-opacity=\"0.188235\" points=\"348.5,-177 227.5,-177 227.5,-142 348.5,-142 348.5,-177\" stroke=\"#00ff00\" stroke-opacity=\"0.188235\"/>\n<text fill=\"#006400\" font-family=\"arial\" font-size=\"12.00\" text-anchor=\"start\" text-decoration=\"underline\" x=\"235.5\" y=\"-157.4\">acquisition.Session</text>\n</a>\n</g>\n</g>\n<!-- acquisition.Session&#45;&gt;48 -->\n<g class=\"edge\" id=\"edge2\">\n<title>acquisition.Session-&gt;48</title>\n<path d=\"M227.3788,-151.1037C161.5038,-141.2768 61.0859,-124.0388 27,-106 19.6036,-102.0857 13.1768,-94.1991 10.4257,-90.5004\" fill=\"none\" stroke=\"#000000\" stroke-dasharray=\"5,2\" stroke-opacity=\"0.250980\" stroke-width=\".75\"/>\n</g>\n<!-- acquisition.Session&#45;&gt;acquisition.SessionUser -->\n<g class=\"edge\" id=\"edge3\">\n<title>acquisition.Session-&gt;acquisition.SessionUser</title>\n<path d=\"M243.7528,-141.9494C216.214,-131.0262 180.9182,-117.0262 153.3586,-106.0947\" fill=\"none\" stroke=\"#000000\" stroke-opacity=\"0.250980\" stroke-width=\".75\"/>\n</g>\n<!-- acquisition.Session&#45;&gt;acquisition.SessionProcedure -->\n<g class=\"edge\" id=\"edge4\">\n<title>acquisition.Session-&gt;acquisition.SessionProcedure</title>\n<path d=\"M288,-141.9494C288,-131.1083 288,-117.2366 288,-106.3418\" fill=\"none\" stroke=\"#000000\" stroke-opacity=\"0.250980\" stroke-width=\".75\"/>\n</g>\n<!-- acquisition.Session&#45;&gt;acquisition.ChildSession -->\n<g class=\"edge\" id=\"edge5\">\n<title>acquisition.Session-&gt;acquisition.ChildSession</title>\n<path d=\"M342.5427,-141.9384C359.124,-133.7542 375.466,-122.1464 385,-106 392.9092,-92.6052 394.292,-83.4753 385,-71 372.0674,-53.6368 323.9448,-39.8338 280.8512,-30.5996\" fill=\"none\" stroke=\"#000000\" stroke-opacity=\"0.250980\" stroke-width=\"2\"/>\n</g>\n<!-- acquisition.SessionProject -->\n<g class=\"node\" id=\"node6\">\n<title>acquisition.SessionProject</title>\n<g id=\"a_node6\"><a xlink:title=\"→ acquisition.Session\r------------------------------\r→ reference.Project.proj(session_project=&quot;project_name&quot;)\rsessionproject_ts=CURRENT_TIMESTAMP \r\">\n<polygon fill=\"#00ff00\" fill-opacity=\"0.188235\" points=\"590,-106 432,-106 432,-71 590,-71 590,-106\" stroke=\"#00ff00\" stroke-opacity=\"0.188235\"/>\n<text fill=\"#006400\" font-family=\"arial\" font-size=\"12.00\" text-anchor=\"middle\" x=\"511\" y=\"-85.4\">acquisition.SessionProject</text>\n</a>\n</g>\n</g>\n<!-- acquisition.Session&#45;&gt;acquisition.SessionProject -->\n<g class=\"edge\" id=\"edge6\">\n<title>acquisition.Session-&gt;acquisition.SessionProject</title>\n<path d=\"M343.1236,-141.9494C377.4317,-131.0262 421.4035,-117.0262 455.7377,-106.0947\" fill=\"none\" stroke=\"#000000\" stroke-opacity=\"0.250980\" stroke-width=\"2\"/>\n</g>\n</g>\n</svg>"
          },
          "metadata": {
            "tags": []
          },
          "execution_count": 13
        }
      ]
    },
    {
      "cell_type": "code",
      "metadata": {
        "colab": {
          "base_uri": "https://localhost:8080/",
          "height": 186
        },
        "id": "1gP-QzoQ55Md",
        "outputId": "b7ed705c-9de1-4d4f-e184-43edd853728a"
      },
      "source": [
        "data.FileRecord.describe()"
      ],
      "execution_count": null,
      "outputs": [
        {
          "output_type": "stream",
          "text": [
            "-> data.DataSet\n",
            "-> data.DataRepository\n",
            "---\n",
            "record_uuid          : uuid                         \n",
            "exists               : tinyint                      \n",
            "relative_path        : varchar(255)                 \n",
            "\n"
          ],
          "name": "stdout"
        },
        {
          "output_type": "execute_result",
          "data": {
            "application/vnd.google.colaboratory.intrinsic+json": {
              "type": "string"
            },
            "text/plain": [
              "'-> data.DataSet\\n-> data.DataRepository\\n---\\nrecord_uuid          : uuid                         \\nexists               : tinyint                      \\nrelative_path        : varchar(255)                 \\n'"
            ]
          },
          "metadata": {
            "tags": []
          },
          "execution_count": 20
        }
      ]
    },
    {
      "cell_type": "code",
      "metadata": {
        "colab": {
          "base_uri": "https://localhost:8080/",
          "height": 170
        },
        "id": "B3s270_M3SWP",
        "outputId": "a806d882-46ba-4ff1-e2af-ddf2fdef89c1"
      },
      "source": [
        "action.ProcedureType.describe()"
      ],
      "execution_count": null,
      "outputs": [
        {
          "output_type": "stream",
          "text": [
            "procedure_type_name  : varchar(255)                 \n",
            "---\n",
            "procedure_type_uuid  : uuid                         \n",
            "procedure_type_description=null : varchar(1024)                \n",
            "proceduretype_ts=CURRENT_TIMESTAMP : timestamp                    \n",
            "\n"
          ],
          "name": "stdout"
        },
        {
          "output_type": "execute_result",
          "data": {
            "application/vnd.google.colaboratory.intrinsic+json": {
              "type": "string"
            },
            "text/plain": [
              "'procedure_type_name  : varchar(255)                 \\n---\\nprocedure_type_uuid  : uuid                         \\nprocedure_type_description=null : varchar(1024)                \\nproceduretype_ts=CURRENT_TIMESTAMP : timestamp                    \\n'"
            ]
          },
          "metadata": {
            "tags": []
          },
          "execution_count": 15
        }
      ]
    },
    {
      "cell_type": "code",
      "metadata": {
        "colab": {
          "base_uri": "https://localhost:8080/",
          "height": 153
        },
        "id": "4NK504LW4JKo",
        "outputId": "52d5808f-9a42-4a6a-d618-121ef362e79e"
      },
      "source": [
        "behavior.CompleteWheelSession.describe()"
      ],
      "execution_count": null,
      "outputs": [
        {
          "output_type": "stream",
          "text": [
            "# sessions that are complete with wheel related information and thus may be ingested\n",
            "-> acquisition.Session\n",
            "---\n",
            "wheel_velocity_status : enum('Missing','Complete')   \n",
            "\n"
          ],
          "name": "stdout"
        },
        {
          "output_type": "execute_result",
          "data": {
            "application/vnd.google.colaboratory.intrinsic+json": {
              "type": "string"
            },
            "text/plain": [
              "\"# sessions that are complete with wheel related information and thus may be ingested\\n-> acquisition.Session\\n---\\nwheel_velocity_status : enum('Missing','Complete')   \\n\""
            ]
          },
          "metadata": {
            "tags": []
          },
          "execution_count": 16
        }
      ]
    },
    {
      "cell_type": "code",
      "metadata": {
        "colab": {
          "base_uri": "https://localhost:8080/",
          "height": 338
        },
        "id": "UHuUITdT5ETJ",
        "outputId": "9bb45f9a-3303-470a-f20e-78c6f657f575"
      },
      "source": [
        "behavior.CompleteTrialSession.describe()"
      ],
      "execution_count": null,
      "outputs": [
        {
          "output_type": "stream",
          "text": [
            "# sessions that are complete with trial information and thus may be ingested\n",
            "-> acquisition.Session\n",
            "---\n",
            "stim_on_times_status : enum('Complete','Partial','Missing') \n",
            "rep_num_status       : enum('Complete','Missing')   \n",
            "included_status      : enum('Complete','Missing')   \n",
            "ambient_sensor_data_status : enum('Complete','Missing')   \n",
            "go_cue_times_status  : enum('Complete','Missing')   \n",
            "go_cue_trigger_times_status : enum('Complete','Missing')   \n",
            "reward_volume_status : enum('Complete','Missing')   \n",
            "iti_duration_status  : enum('Complete','Missing')   \n",
            "\n"
          ],
          "name": "stdout"
        },
        {
          "output_type": "execute_result",
          "data": {
            "application/vnd.google.colaboratory.intrinsic+json": {
              "type": "string"
            },
            "text/plain": [
              "\"# sessions that are complete with trial information and thus may be ingested\\n-> acquisition.Session\\n---\\nstim_on_times_status : enum('Complete','Partial','Missing') \\nrep_num_status       : enum('Complete','Missing')   \\nincluded_status      : enum('Complete','Missing')   \\nambient_sensor_data_status : enum('Complete','Missing')   \\ngo_cue_times_status  : enum('Complete','Missing')   \\ngo_cue_trigger_times_status : enum('Complete','Missing')   \\nreward_volume_status : enum('Complete','Missing')   \\niti_duration_status  : enum('Complete','Missing')   \\n\""
            ]
          },
          "metadata": {
            "tags": []
          },
          "execution_count": 17
        }
      ]
    },
    {
      "cell_type": "code",
      "metadata": {
        "colab": {
          "base_uri": "https://localhost:8080/",
          "height": 102
        },
        "id": "WydUneyI5ZqF",
        "outputId": "a8a82d80-71ac-4563-ca10-a2414443900f"
      },
      "source": [
        "behavior.CompleteWheelMoveSession.describe()"
      ],
      "execution_count": null,
      "outputs": [
        {
          "output_type": "stream",
          "text": [
            "# sessions that are complete with wheel related information and thus may be ingested\n",
            "-> acquisition.Session\n",
            "\n"
          ],
          "name": "stdout"
        },
        {
          "output_type": "execute_result",
          "data": {
            "application/vnd.google.colaboratory.intrinsic+json": {
              "type": "string"
            },
            "text/plain": [
              "'# sessions that are complete with wheel related information and thus may be ingested\\n-> acquisition.Session\\n'"
            ]
          },
          "metadata": {
            "tags": []
          },
          "execution_count": 18
        }
      ]
    },
    {
      "cell_type": "code",
      "metadata": {
        "colab": {
          "base_uri": "https://localhost:8080/",
          "height": 358
        },
        "id": "YZgy56g45jEU",
        "outputId": "91abf7d1-7e45-4155-9a35-2091b32edb87"
      },
      "source": [
        "acquisition.Session.describe()"
      ],
      "execution_count": null,
      "outputs": [
        {
          "output_type": "stream",
          "text": [
            "-> subject.Subject\n",
            "session_start_time   : datetime                     # start time\n",
            "---\n",
            "session_uuid         : uuid                         \n",
            "session_number=null  : int                          # number\n",
            "session_end_time=null : datetime                     # end time\n",
            "-> [nullable] reference.LabLocation.proj(session_lab=\"lab_name\",session_location=\"location_name\")\n",
            "task_protocol=null   : varchar(255)                 \n",
            "session_type=null    : varchar(255)                 # type\n",
            "session_narrative=null : varchar(2048)                \n",
            "session_ts=CURRENT_TIMESTAMP : timestamp                    \n",
            "\n"
          ],
          "name": "stdout"
        },
        {
          "output_type": "execute_result",
          "data": {
            "application/vnd.google.colaboratory.intrinsic+json": {
              "type": "string"
            },
            "text/plain": [
              "'-> subject.Subject\\nsession_start_time   : datetime                     # start time\\n---\\nsession_uuid         : uuid                         \\nsession_number=null  : int                          # number\\nsession_end_time=null : datetime                     # end time\\n-> [nullable] reference.LabLocation.proj(session_lab=\"lab_name\",session_location=\"location_name\")\\ntask_protocol=null   : varchar(255)                 \\nsession_type=null    : varchar(255)                 # type\\nsession_narrative=null : varchar(2048)                \\nsession_ts=CURRENT_TIMESTAMP : timestamp                    \\n'"
            ]
          },
          "metadata": {
            "tags": []
          },
          "execution_count": 19
        }
      ]
    },
    {
      "cell_type": "code",
      "metadata": {
        "colab": {
          "base_uri": "https://localhost:8080/"
        },
        "id": "iPNO9hOLBk-c",
        "outputId": "c00463dd-402c-425c-c3b7-64f936825bf4"
      },
      "source": [
        "behavior.TrialSet.Trial.describe();"
      ],
      "execution_count": null,
      "outputs": [
        {
          "output_type": "stream",
          "text": [
            "-> behavior.TrialSet\n",
            "trial_id             : int                          # trial identification number\n",
            "---\n",
            "trial_start_time     : double                       # beginning of quiescent period time (seconds)\n",
            "trial_end_time       : double                       # end of iti (seconds)\n",
            "trial_response_time=null : double                       # Time of \"response\" in choiceworld (seconds). This is when one of the three possible choices is registered in software, will not be the same as when the mouse's movement to generate that response begins.\n",
            "trial_response_choice : enum('CCW','CW','No Go')     # which choice was made in choiceworld\n",
            "trial_stim_on_time=null : double                       # Time of stimulus in choiceworld (seconds)\n",
            "trial_stim_contrast_left : float                        # contrast of the stimulus on the left\n",
            "trial_stim_contrast_right : float                        # contrast of the stimulus on the right\n",
            "trial_feedback_time=null : double                       # Time of feedback delivery (reward or not) in choiceworld\n",
            "trial_feedback_type=null : tinyint                      # whether feedback is positive or negative in choiceworld (-1 for negative, +1 for positive)\n",
            "trial_rep_num=null   : int                          # the repetition number of the trial, i.e. how many trials have been repeated on this side (counting from 1)\n",
            "trial_go_cue_time=null : float                        \n",
            "trial_go_cue_trigger_time=null : float                        \n",
            "trial_stim_prob_left : float                        # probability of the stimulus being present on left\n",
            "trial_reward_volume=null : float                        # reward volume of each trial\n",
            "trial_iti_duration=null : float                        # inter-trial interval\n",
            "trial_included=null  : tinyint                      # whether the trial should be included\n",
            "\n"
          ],
          "name": "stdout"
        }
      ]
    },
    {
      "cell_type": "code",
      "metadata": {
        "colab": {
          "base_uri": "https://localhost:8080/",
          "height": 425
        },
        "id": "nw4Vg6FlEi0M",
        "outputId": "e58021d1-c79c-4777-f64e-cf9f0367c1d5"
      },
      "source": [
        "behavior_analyses.PsychResultsBlock.describe()"
      ],
      "execution_count": null,
      "outputs": [
        {
          "output_type": "stream",
          "text": [
            "-> behavior.TrialSet\n",
            "prob_left_block      : int                          # block number representing the probability left\n",
            "---\n",
            "prob_left            : float                        # 0.5 for trainingChoiceWorld, actual value for biasedChoiceWorld\n",
            "signed_contrasts     : blob                         # contrasts used in this session, negative when on the left\n",
            "n_trials_stim        : blob                         # number of trials for each contrast\n",
            "n_trials_stim_right  : blob                         # number of reporting \"right\" trials for each contrast\n",
            "prob_choose_right    : blob                         # probability of choosing right, same size as contrasts\n",
            "threshold            : float                        \n",
            "bias                 : float                        \n",
            "lapse_low            : float                        \n",
            "lapse_high           : float                        \n",
            "\n"
          ],
          "name": "stdout"
        },
        {
          "output_type": "execute_result",
          "data": {
            "application/vnd.google.colaboratory.intrinsic+json": {
              "type": "string"
            },
            "text/plain": [
              "'-> behavior.TrialSet\\nprob_left_block      : int                          # block number representing the probability left\\n---\\nprob_left            : float                        # 0.5 for trainingChoiceWorld, actual value for biasedChoiceWorld\\nsigned_contrasts     : blob                         # contrasts used in this session, negative when on the left\\nn_trials_stim        : blob                         # number of trials for each contrast\\nn_trials_stim_right  : blob                         # number of reporting \"right\" trials for each contrast\\nprob_choose_right    : blob                         # probability of choosing right, same size as contrasts\\nthreshold            : float                        \\nbias                 : float                        \\nlapse_low            : float                        \\nlapse_high           : float                        \\n'"
            ]
          },
          "metadata": {
            "tags": []
          },
          "execution_count": 22
        }
      ]
    },
    {
      "cell_type": "markdown",
      "metadata": {
        "id": "_wyishPhoKaJ"
      },
      "source": [
        "The following is a binary prediction using the example of logistic regression:"
      ]
    },
    {
      "cell_type": "code",
      "metadata": {
        "id": "h3081gUdocMr"
      },
      "source": [
        "q = behavior_analyses.PsychResultsBlock & (subject.Subject & 'subject_nickname=\"CSHL_015\"')\n",
        "q & 'session_start_time > \"2019-09-15\"'\n",
        "psych_results = q & {'session_start_time': datetime.datetime(2019, 9, 16, 13, 44, 46)}\n",
        "dict_results = psych_results.fetch(\n",
        "    'signed_contrasts', 'prob_choose_right', 'n_trials_stim', 'n_trials_stim_right',\n",
        "    'threshold', 'bias', 'lapse_low', 'lapse_high', as_dict=True)\n"
      ],
      "execution_count": null,
      "outputs": []
    },
    {
      "cell_type": "markdown",
      "metadata": {
        "id": "eM_1OQMom9lA"
      },
      "source": [
        "这里是把学好的threshold,slope，gamma1,和gamma2直接导入了吗？然后和数据里的prob_choose_right做对比？"
      ]
    },
    {
      "cell_type": "code",
      "metadata": {
        "colab": {
          "base_uri": "https://localhost:8080/",
          "height": 665
        },
        "id": "B2vmfCRWnxqs",
        "outputId": "66492708-26dd-4f87-e3db-8c9ccb5fb43c"
      },
      "source": [
        "colors = [[1., 0., 0.], [0., 0., 0.], [0., 0., 1.]]\n",
        "fig, ax = plt.subplots(1, 1, dpi=200)\n",
        "\n",
        "for result, color in zip(dict_results, colors):\n",
        "    pars = [result['bias'], result['threshold'], result['lapse_low'], result['lapse_high']]\n",
        "    print (pars)\n",
        "    contrasts = result['signed_contrasts'] * 100\n",
        "    contrasts_fit = np.arange(-100, 100)\n",
        "    prob_right_fit = psy.erf_psycho_2gammas(pars, contrasts_fit) *100\n",
        "    sns.lineplot(contrasts_fit, prob_right_fit, color=color, ax=ax)\n",
        "\n",
        "    sns.lineplot(x=contrasts, y=result['prob_choose_right']*100, err_style=\"bars\", linewidth=0, linestyle='None', mew=0.5,\n",
        "            marker='.', ci=68, color=color, ax=ax)\n",
        "\n",
        "# add axis labels\n",
        "ax.set_xlabel('Signed Contrast (%)')\n",
        "ax.set_ylabel('Rightward Choice (%)')"
      ],
      "execution_count": null,
      "outputs": [
        {
          "output_type": "stream",
          "text": [
            "[-12.7676, 44.929, 0.0582509, 0.0621766]\n",
            "[20.2507, 53.3714, 8.94956e-13, 0.128377]\n",
            "[65.2483, 80.6509, 8.30313e-13, 0.0901264]\n"
          ],
          "name": "stdout"
        },
        {
          "output_type": "stream",
          "text": [
            "/usr/local/lib/python3.7/dist-packages/seaborn/_decorators.py:43: FutureWarning: Pass the following variables as keyword args: x, y. From version 0.12, the only valid positional argument will be `data`, and passing other arguments without an explicit keyword will result in an error or misinterpretation.\n",
            "  FutureWarning\n",
            "/usr/local/lib/python3.7/dist-packages/seaborn/_decorators.py:43: FutureWarning: Pass the following variables as keyword args: x, y. From version 0.12, the only valid positional argument will be `data`, and passing other arguments without an explicit keyword will result in an error or misinterpretation.\n",
            "  FutureWarning\n",
            "/usr/local/lib/python3.7/dist-packages/seaborn/_decorators.py:43: FutureWarning: Pass the following variables as keyword args: x, y. From version 0.12, the only valid positional argument will be `data`, and passing other arguments without an explicit keyword will result in an error or misinterpretation.\n",
            "  FutureWarning\n"
          ],
          "name": "stderr"
        },
        {
          "output_type": "execute_result",
          "data": {
            "text/plain": [
              "Text(0, 0.5, 'Rightward Choice (%)')"
            ]
          },
          "metadata": {
            "tags": []
          },
          "execution_count": 13
        },
        {
          "output_type": "display_data",
          "data": {
            "image/png": "[encoded data removed]",
            "text/plain": [
              "<Figure size 1200x800 with 1 Axes>"
            ]
          },
          "metadata": {
            "tags": [],
            "needs_background": "light"
          }
        }
      ]
    },
    {
      "cell_type": "markdown",
      "metadata": {
        "id": "eLN9YiJFnhhY"
      },
      "source": [
        "These are the values ​​of the three sets of pars for the instance:"
      ]
    },
    {
      "cell_type": "markdown",
      "metadata": {
        "id": "qrnT6sZMnsHv"
      },
      "source": [
        "\n",
        "\n",
        "```\n",
        "[-12.7676, 44.929, 0.0582509, 0.0621766]\n",
        "[20.2507, 53.3714, 8.94956e-13, 0.128377]\n",
        "[65.2483, 80.6509, 8.30313e-13, 0.0901264]\n",
        "```\n",
        "\n"
      ]
    },
    {
      "cell_type": "markdown",
      "metadata": {
        "id": "hzZrgqhZndkB"
      },
      "source": [
        "The following is the source code of the psy.erf_psycho_2gammas method:"
      ]
    },
    {
      "cell_type": "code",
      "metadata": {
        "id": "k1FhO1xq4ElC"
      },
      "source": [
        ""
      ],
      "execution_count": null,
      "outputs": []
    },
    {
      "cell_type": "markdown",
      "metadata": {
        "id": "RNtTDbb2nMP8"
      },
      "source": [
        "\n",
        "\n",
        "```\n",
        "with open(psy.__file__,'r') as f:\n",
        "    print(f.read())\n",
        "\n",
        "\n",
        "\n",
        "def erf_psycho_2gammas(pars, xx):\n",
        "    \"\"\"\n",
        "    erf function from 0 to 1, with two lapse rates.\n",
        "    Args:\n",
        "        pars: Model parameters [threshold, slope, gamma].\n",
        "        xx: vector of stim levels (%)\n",
        "    Returns:\n",
        "        ff: A vector of length xx\n",
        "\n",
        "    Examples:\n",
        "        >>> import numpy as np\n",
        "        >>> import matplotlib.pyplot as plt\n",
        "        >>> xx = np.arange(-50,50)\n",
        "        >>> ff = erf_psycho_2gammas(np.array(-10., 10., 0.2, 0.),xx)\n",
        "        >>> plt.plot(xx,ff)\n",
        "\n",
        "    Raises:\n",
        "        ValueError: pars must be a vector of length 3\n",
        "        ValueError: each of the three parameters must be scalar\n",
        "        TypeError: pars must be a list or numpy array\n",
        "\n",
        "    Information:\n",
        "        2000    MC wrote it\n",
        "        2018-08 MW ported to Python\n",
        "    \"\"\"\n",
        "    # Validate input\n",
        "    if isinstance(pars, (list, tuple)):\n",
        "        pars = np.array(pars)\n",
        "    elif not isinstance(pars, np.ndarray):\n",
        "        raise TypeError('pars must be a list or numpy array')\n",
        "\n",
        "    if pars.shape[0] != 4:\n",
        "        raise ValueError('pars must be a vector of length 4')\n",
        "    threshold\t= pars[0]\n",
        "    slope\t= pars[1]\n",
        "    gamma1\t= pars[2]\n",
        "    gamma2\t= pars[3]\n",
        "\n",
        "    if (threshold.size!=1) or (slope.size!=1) or (gamma1.size!=1) or (gamma2.size!=1):\n",
        "        ValueError('each of the three parameters must be scalar')\n",
        "\n",
        "    return gamma1 + (1 - gamma1 - gamma2) * (erf( (xx-threshold)/slope ) + 1 )/2\n",
        "```\n",
        "\n"
      ]
    },
    {
      "cell_type": "markdown",
      "metadata": {
        "id": "lVQ_r4ZmfuMx"
      },
      "source": [
        "I think we need to determine the elements contained in the specific initial probability matrix (for example: task completed / task not completed-using this binary hypothesis?), the probability transition matrix (what conditions are included?), and the emission probability matrix ( \n",
        "The specific influencing factors)-these may need to be unified."
      ]
    },
    {
      "cell_type": "markdown",
      "metadata": {
        "id": "4W59pN4xp41A"
      },
      "source": [
        "Which parameters in the IBL database are used to construct this predictive model?\n",
        "\n",
        "1: Hidden state (and initial state classification) is: enum('complete','missing') or: enum('CCW','CW','NoGo')?\n",
        "\n",
        "2:"
      ]
    },
    {
      "cell_type": "markdown",
      "metadata": {
        "id": "L9vYG-2pxOlU"
      },
      "source": [
        "The following is a framework for using HMM to predict mouse behavior:"
      ]
    },
    {
      "cell_type": "code",
      "metadata": {
        "colab": {
          "base_uri": "https://localhost:8080/"
        },
        "id": "3k47k5LAxZ4r",
        "outputId": "a37af671-7833-4bbb-e0e9-d59f1d580830"
      },
      "source": [
        "!pip install hmmlearn"
      ],
      "execution_count": null,
      "outputs": [
        {
          "output_type": "stream",
          "text": [
            "Collecting hmmlearn\n",
            "\u001b[?25l  Downloading https://files.pythonhosted.org/packages/4b/98/a2829aeb942b7146034d497afb3fc738a78a4fbd4797a039c19a94bb31f7/hmmlearn-0.2.5-cp37-cp37m-manylinux1_x86_64.whl (369kB)\n",
            "\r\u001b[K     |▉                               | 10kB 15.8MB/s eta 0:00:01\r\u001b[K     |█▊                              | 20kB 19.3MB/s eta 0:00:01\r\u001b[K     |██▋                             | 30kB 21.9MB/s eta 0:00:01\r\u001b[K     |███▌                            | 40kB 25.4MB/s eta 0:00:01\r\u001b[K     |████▍                           | 51kB 27.2MB/s eta 0:00:01\r\u001b[K     |█████▎                          | 61kB 28.6MB/s eta 0:00:01\r\u001b[K     |██████▏                         | 71kB 28.5MB/s eta 0:00:01\r\u001b[K     |███████                         | 81kB 28.2MB/s eta 0:00:01\r\u001b[K     |████████                        | 92kB 28.4MB/s eta 0:00:01\r\u001b[K     |████████▉                       | 102kB 28.7MB/s eta 0:00:01\r\u001b[K     |█████████▊                      | 112kB 28.7MB/s eta 0:00:01\r\u001b[K     |██████████▋                     | 122kB 28.7MB/s eta 0:00:01\r\u001b[K     |███████████▌                    | 133kB 28.7MB/s eta 0:00:01\r\u001b[K     |████████████▍                   | 143kB 28.7MB/s eta 0:00:01\r\u001b[K     |█████████████▎                  | 153kB 28.7MB/s eta 0:00:01\r\u001b[K     |██████████████▏                 | 163kB 28.7MB/s eta 0:00:01\r\u001b[K     |███████████████                 | 174kB 28.7MB/s eta 0:00:01\r\u001b[K     |████████████████                | 184kB 28.7MB/s eta 0:00:01\r\u001b[K     |████████████████▉               | 194kB 28.7MB/s eta 0:00:01\r\u001b[K     |█████████████████▊              | 204kB 28.7MB/s eta 0:00:01\r\u001b[K     |██████████████████▋             | 215kB 28.7MB/s eta 0:00:01\r\u001b[K     |███████████████████▌            | 225kB 28.7MB/s eta 0:00:01\r\u001b[K     |████████████████████▍           | 235kB 28.7MB/s eta 0:00:01\r\u001b[K     |█████████████████████▎          | 245kB 28.7MB/s eta 0:00:01\r\u001b[K     |██████████████████████▏         | 256kB 28.7MB/s eta 0:00:01\r\u001b[K     |███████████████████████         | 266kB 28.7MB/s eta 0:00:01\r\u001b[K     |████████████████████████        | 276kB 28.7MB/s eta 0:00:01\r\u001b[K     |████████████████████████▉       | 286kB 28.7MB/s eta 0:00:01\r\u001b[K     |█████████████████████████▊      | 296kB 28.7MB/s eta 0:00:01\r\u001b[K     |██████████████████████████▋     | 307kB 28.7MB/s eta 0:00:01\r\u001b[K     |███████████████████████████▌    | 317kB 28.7MB/s eta 0:00:01\r\u001b[K     |████████████████████████████▍   | 327kB 28.7MB/s eta 0:00:01\r\u001b[K     |█████████████████████████████▎  | 337kB 28.7MB/s eta 0:00:01\r\u001b[K     |██████████████████████████████▏ | 348kB 28.7MB/s eta 0:00:01\r\u001b[K     |███████████████████████████████ | 358kB 28.7MB/s eta 0:00:01\r\u001b[K     |████████████████████████████████| 368kB 28.7MB/s eta 0:00:01\r\u001b[K     |████████████████████████████████| 378kB 28.7MB/s \n",
            "\u001b[?25hRequirement already satisfied: numpy>=1.10 in /usr/local/lib/python3.7/dist-packages (from hmmlearn) (1.19.5)\n",
            "Requirement already satisfied: scikit-learn>=0.16 in /usr/local/lib/python3.7/dist-packages (from hmmlearn) (0.22.2.post1)\n",
            "Requirement already satisfied: scipy>=0.19 in /usr/local/lib/python3.7/dist-packages (from hmmlearn) (1.2.1)\n",
            "Requirement already satisfied: joblib>=0.11 in /usr/local/lib/python3.7/dist-packages (from scikit-learn>=0.16->hmmlearn) (1.0.1)\n",
            "Installing collected packages: hmmlearn\n",
            "Successfully installed hmmlearn-0.2.5\n"
          ],
          "name": "stdout"
        }
      ]
    },
    {
      "cell_type": "code",
      "metadata": {
        "id": "vp-AYe9AxWuE"
      },
      "source": [
        "import numpy as np\n",
        "from hmmlearn import hmm\n",
        "np.random.seed(42)"
      ],
      "execution_count": null,
      "outputs": []
    },
    {
      "cell_type": "code",
      "metadata": {
        "colab": {
          "base_uri": "https://localhost:8080/"
        },
        "id": "4JzSXOONxmer",
        "outputId": "42d596f6-7f6f-4639-cafa-9a89944a948a"
      },
      "source": [
        "with open(hmm.__file__,'r') as f:\n",
        "    print(f.read())"
      ],
      "execution_count": null,
      "outputs": [
        {
          "output_type": "stream",
          "text": [
            "# Hidden Markov Models\n",
            "#\n",
            "# Author: Ron Weiss <ronweiss@gmail.com>\n",
            "#         Shiqiao Du <lucidfrontier.45@gmail.com>\n",
            "# API changes: Jaques Grobler <jaquesgrobler@gmail.com>\n",
            "# Modifications to create of the HMMLearn module: Gael Varoquaux\n",
            "# More API changes: Sergei Lebedev <superbobry@gmail.com>\n",
            "\n",
            "\"\"\"\n",
            "The :mod:`hmmlearn.hmm` module implements hidden Markov models.\n",
            "\"\"\"\n",
            "\n",
            "import functools\n",
            "import inspect\n",
            "import logging\n",
            "\n",
            "import numpy as np\n",
            "from scipy import linalg, special\n",
            "from sklearn import cluster\n",
            "from sklearn.utils import check_random_state\n",
            "\n",
            "from . import _utils\n",
            "from .stats import log_multivariate_normal_density\n",
            "from .base import _BaseHMM\n",
            "from .utils import fill_covars, log_mask_zero, log_normalize, normalize\n",
            "\n",
            "__all__ = [\"GMMHMM\", \"GaussianHMM\", \"MultinomialHMM\"]\n",
            "\n",
            "\n",
            "_log = logging.getLogger(__name__)\n",
            "COVARIANCE_TYPES = frozenset((\"spherical\", \"diag\", \"full\", \"tied\"))\n",
            "\n",
            "\n",
            "def _check_and_set_gaussian_n_features(model, X):\n",
            "    _, n_features = X.shape\n",
            "    if hasattr(model, \"n_features\") and model.n_features != n_features:\n",
            "        raise ValueError(\"Unexpected number of dimensions, got {} but \"\n",
            "                         \"expected {}\".format(n_features, model.n_features))\n",
            "    model.n_features = n_features\n",
            "\n",
            "\n",
            "class GaussianHMM(_BaseHMM):\n",
            "    r\"\"\"Hidden Markov Model with Gaussian emissions.\n",
            "\n",
            "    Parameters\n",
            "    ----------\n",
            "    n_components : int\n",
            "        Number of states.\n",
            "\n",
            "    covariance_type : string, optional\n",
            "        String describing the type of covariance parameters to\n",
            "        use.  Must be one of\n",
            "\n",
            "        * \"spherical\" --- each state uses a single variance value that\n",
            "          applies to all features.\n",
            "        * \"diag\" --- each state uses a diagonal covariance matrix.\n",
            "        * \"full\" --- each state uses a full (i.e. unrestricted)\n",
            "          covariance matrix.\n",
            "        * \"tied\" --- all states use **the same** full covariance matrix.\n",
            "\n",
            "        Defaults to \"diag\".\n",
            "\n",
            "    min_covar : float, optional\n",
            "        Floor on the diagonal of the covariance matrix to prevent\n",
            "        overfitting. Defaults to 1e-3.\n",
            "\n",
            "    startprob_prior : array, shape (n_components, ), optional\n",
            "        Parameters of the Dirichlet prior distribution for\n",
            "        :attr:`startprob_`.\n",
            "\n",
            "    transmat_prior : array, shape (n_components, n_components), optional\n",
            "        Parameters of the Dirichlet prior distribution for each row\n",
            "        of the transition probabilities :attr:`transmat_`.\n",
            "\n",
            "    means_prior, means_weight : array, shape (n_components, ), optional\n",
            "        Mean and precision of the Normal prior distribtion for\n",
            "        :attr:`means_`.\n",
            "\n",
            "    covars_prior, covars_weight : array, shape (n_components, ), optional\n",
            "        Parameters of the prior distribution for the covariance matrix\n",
            "        :attr:`covars_`.\n",
            "\n",
            "        If :attr:`covariance_type` is \"spherical\" or \"diag\" the prior is\n",
            "        the inverse gamma distribution, otherwise --- the inverse Wishart\n",
            "        distribution.\n",
            "\n",
            "    algorithm : string, optional\n",
            "        Decoder algorithm. Must be one of \"viterbi\" or`\"map\".\n",
            "        Defaults to \"viterbi\".\n",
            "\n",
            "    random_state: RandomState or an int seed, optional\n",
            "        A random number generator instance.\n",
            "\n",
            "    n_iter : int, optional\n",
            "        Maximum number of iterations to perform.\n",
            "\n",
            "    tol : float, optional\n",
            "        Convergence threshold. EM will stop if the gain in log-likelihood\n",
            "        is below this value.\n",
            "\n",
            "    verbose : bool, optional\n",
            "        When ``True`` per-iteration convergence reports are printed\n",
            "        to :data:`sys.stderr`. You can diagnose convergence via the\n",
            "        :attr:`monitor_` attribute.\n",
            "\n",
            "    params : string, optional\n",
            "        Controls which parameters are updated in the training\n",
            "        process.  Can contain any combination of 's' for startprob,\n",
            "        't' for transmat, 'm' for means and 'c' for covars. Defaults\n",
            "        to all parameters.\n",
            "\n",
            "    init_params : string, optional\n",
            "        Controls which parameters are initialized prior to\n",
            "        training.  Can contain any combination of 's' for\n",
            "        startprob, 't' for transmat, 'm' for means and 'c' for covars.\n",
            "        Defaults to all parameters.\n",
            "\n",
            "    Attributes\n",
            "    ----------\n",
            "    n_features : int\n",
            "        Dimensionality of the Gaussian emissions.\n",
            "\n",
            "    monitor\\_ : ConvergenceMonitor\n",
            "        Monitor object used to check the convergence of EM.\n",
            "\n",
            "    startprob\\_ : array, shape (n_components, )\n",
            "        Initial state occupation distribution.\n",
            "\n",
            "    transmat\\_ : array, shape (n_components, n_components)\n",
            "        Matrix of transition probabilities between states.\n",
            "\n",
            "    means\\_ : array, shape (n_components, n_features)\n",
            "        Mean parameters for each state.\n",
            "\n",
            "    covars\\_ : array\n",
            "        Covariance parameters for each state.\n",
            "\n",
            "        The shape depends on :attr:`covariance_type`::\n",
            "\n",
            "            (n_components, )                        if \"spherical\",\n",
            "            (n_components, n_features)              if \"diag\",\n",
            "            (n_components, n_features, n_features)  if \"full\"\n",
            "            (n_features, n_features)                if \"tied\",\n",
            "\n",
            "    Examples\n",
            "    --------\n",
            "    >>> from hmmlearn.hmm import GaussianHMM\n",
            "    >>> GaussianHMM(n_components=2)  #doctest: +ELLIPSIS\n",
            "    GaussianHMM(algorithm='viterbi',...\n",
            "    \"\"\"\n",
            "    def __init__(self, n_components=1, covariance_type='diag',\n",
            "                 min_covar=1e-3,\n",
            "                 startprob_prior=1.0, transmat_prior=1.0,\n",
            "                 means_prior=0, means_weight=0,\n",
            "                 covars_prior=1e-2, covars_weight=1,\n",
            "                 algorithm=\"viterbi\", random_state=None,\n",
            "                 n_iter=10, tol=1e-2, verbose=False,\n",
            "                 params=\"stmc\", init_params=\"stmc\"):\n",
            "        _BaseHMM.__init__(self, n_components,\n",
            "                          startprob_prior=startprob_prior,\n",
            "                          transmat_prior=transmat_prior, algorithm=algorithm,\n",
            "                          random_state=random_state, n_iter=n_iter,\n",
            "                          tol=tol, params=params, verbose=verbose,\n",
            "                          init_params=init_params)\n",
            "\n",
            "        self.covariance_type = covariance_type\n",
            "        self.min_covar = min_covar\n",
            "        self.means_prior = means_prior\n",
            "        self.means_weight = means_weight\n",
            "        self.covars_prior = covars_prior\n",
            "        self.covars_weight = covars_weight\n",
            "\n",
            "    @property\n",
            "    def covars_(self):\n",
            "        \"\"\"Return covars as a full matrix.\"\"\"\n",
            "        return fill_covars(self._covars_, self.covariance_type,\n",
            "                           self.n_components, self.n_features)\n",
            "\n",
            "    @covars_.setter\n",
            "    def covars_(self, covars):\n",
            "        covars = np.array(covars, copy=True)\n",
            "        _utils._validate_covars(covars, self.covariance_type,\n",
            "                                self.n_components)\n",
            "        self._covars_ = covars\n",
            "\n",
            "    def _get_n_fit_scalars_per_param(self):\n",
            "        nc = self.n_components\n",
            "        nf = self.n_features\n",
            "        return {\n",
            "            \"s\": nc - 1,\n",
            "            \"t\": nc * (nc - 1),\n",
            "            \"m\": nc * nf,\n",
            "            \"c\": {\n",
            "                \"spherical\": nc,\n",
            "                \"diag\": nc * nf,\n",
            "                \"full\": nc * nf * (nf + 1) // 2,\n",
            "                \"tied\": nf * (nf + 1) // 2,\n",
            "            }[self.covariance_type],\n",
            "        }\n",
            "\n",
            "    def _init(self, X, lengths=None):\n",
            "        _check_and_set_gaussian_n_features(self, X)\n",
            "        super()._init(X, lengths=lengths)\n",
            "\n",
            "        if self._needs_init(\"m\", \"means_\"):\n",
            "            kmeans = cluster.KMeans(n_clusters=self.n_components,\n",
            "                                    random_state=self.random_state)\n",
            "            kmeans.fit(X)\n",
            "            self.means_ = kmeans.cluster_centers_\n",
            "        if self._needs_init(\"c\", \"covars_\"):\n",
            "            cv = np.cov(X.T) + self.min_covar * np.eye(X.shape[1])\n",
            "            if not cv.shape:\n",
            "                cv.shape = (1, 1)\n",
            "            self.covars_ = \\\n",
            "                _utils.distribute_covar_matrix_to_match_covariance_type(\n",
            "                    cv, self.covariance_type, self.n_components).copy()\n",
            "\n",
            "    def _check(self):\n",
            "        super()._check()\n",
            "\n",
            "        self.means_ = np.asarray(self.means_)\n",
            "        self.n_features = self.means_.shape[1]\n",
            "\n",
            "        if self.covariance_type not in COVARIANCE_TYPES:\n",
            "            raise ValueError('covariance_type must be one of {}'\n",
            "                             .format(COVARIANCE_TYPES))\n",
            "\n",
            "    def _compute_log_likelihood(self, X):\n",
            "        return log_multivariate_normal_density(\n",
            "            X, self.means_, self._covars_, self.covariance_type)\n",
            "\n",
            "    def _generate_sample_from_state(self, state, random_state=None):\n",
            "        random_state = check_random_state(random_state)\n",
            "        return random_state.multivariate_normal(\n",
            "            self.means_[state], self.covars_[state]\n",
            "        )\n",
            "\n",
            "    def _initialize_sufficient_statistics(self):\n",
            "        stats = super()._initialize_sufficient_statistics()\n",
            "        stats['post'] = np.zeros(self.n_components)\n",
            "        stats['obs'] = np.zeros((self.n_components, self.n_features))\n",
            "        stats['obs**2'] = np.zeros((self.n_components, self.n_features))\n",
            "        if self.covariance_type in ('tied', 'full'):\n",
            "            stats['obs*obs.T'] = np.zeros((self.n_components, self.n_features,\n",
            "                                           self.n_features))\n",
            "        return stats\n",
            "\n",
            "    def _accumulate_sufficient_statistics(self, stats, obs, framelogprob,\n",
            "                                          posteriors, fwdlattice, bwdlattice):\n",
            "        super()._accumulate_sufficient_statistics(\n",
            "            stats, obs, framelogprob, posteriors, fwdlattice, bwdlattice)\n",
            "\n",
            "        if 'm' in self.params or 'c' in self.params:\n",
            "            stats['post'] += posteriors.sum(axis=0)\n",
            "            stats['obs'] += np.dot(posteriors.T, obs)\n",
            "\n",
            "        if 'c' in self.params:\n",
            "            if self.covariance_type in ('spherical', 'diag'):\n",
            "                stats['obs**2'] += np.dot(posteriors.T, obs ** 2)\n",
            "            elif self.covariance_type in ('tied', 'full'):\n",
            "                # posteriors: (nt, nc); obs: (nt, nf); obs: (nt, nf)\n",
            "                # -> (nc, nf, nf)\n",
            "                stats['obs*obs.T'] += np.einsum(\n",
            "                    'ij,ik,il->jkl', posteriors, obs, obs)\n",
            "\n",
            "    def _do_mstep(self, stats):\n",
            "        super()._do_mstep(stats)\n",
            "\n",
            "        means_prior = self.means_prior\n",
            "        means_weight = self.means_weight\n",
            "\n",
            "        # TODO: find a proper reference for estimates for different\n",
            "        #       covariance models.\n",
            "        # Based on Huang, Acero, Hon, \"Spoken Language Processing\",\n",
            "        # p. 443 - 445\n",
            "        denom = stats['post'][:, None]\n",
            "        if 'm' in self.params:\n",
            "            self.means_ = ((means_weight * means_prior + stats['obs'])\n",
            "                           / (means_weight + denom))\n",
            "\n",
            "        if 'c' in self.params:\n",
            "            covars_prior = self.covars_prior\n",
            "            covars_weight = self.covars_weight\n",
            "            meandiff = self.means_ - means_prior\n",
            "\n",
            "            if self.covariance_type in ('spherical', 'diag'):\n",
            "                c_n = (means_weight * meandiff**2\n",
            "                       + stats['obs**2']\n",
            "                       - 2 * self.means_ * stats['obs']\n",
            "                       + self.means_**2 * denom)\n",
            "                c_d = max(covars_weight - 1, 0) + denom\n",
            "                self._covars_ = (covars_prior + c_n) / np.maximum(c_d, 1e-5)\n",
            "                if self.covariance_type == 'spherical':\n",
            "                    self._covars_ = np.tile(self._covars_.mean(1)[:, None],\n",
            "                                            (1, self._covars_.shape[1]))\n",
            "            elif self.covariance_type in ('tied', 'full'):\n",
            "                c_n = np.empty((self.n_components, self.n_features,\n",
            "                                self.n_features))\n",
            "                for c in range(self.n_components):\n",
            "                    obsmean = np.outer(stats['obs'][c], self.means_[c])\n",
            "                    c_n[c] = (means_weight * np.outer(meandiff[c],\n",
            "                                                      meandiff[c])\n",
            "                              + stats['obs*obs.T'][c]\n",
            "                              - obsmean - obsmean.T\n",
            "                              + np.outer(self.means_[c], self.means_[c])\n",
            "                              * stats['post'][c])\n",
            "                cvweight = max(covars_weight - self.n_features, 0)\n",
            "                if self.covariance_type == 'tied':\n",
            "                    self._covars_ = ((covars_prior + c_n.sum(axis=0)) /\n",
            "                                     (cvweight + stats['post'].sum()))\n",
            "                elif self.covariance_type == 'full':\n",
            "                    self._covars_ = ((covars_prior + c_n) /\n",
            "                                     (cvweight + stats['post'][:, None, None]))\n",
            "\n",
            "\n",
            "_MULTINOMIALHMM_DOC_SUFFIX = \"\"\"\n",
            "\n",
            "Notes\n",
            "-----\n",
            "Unlike other HMM classes, `MultinomialHMM` ``X`` arrays have shape\n",
            "``(n_samples, 1)`` (instead of ``(n_samples, n_features)``).  Consider using\n",
            "`sklearn.preprocessing.LabelEncoder` to transform your input to the right\n",
            "format.\n",
            "\"\"\"\n",
            "\n",
            "\n",
            "def _multinomialhmm_fix_docstring_shape(func):\n",
            "    doc = inspect.getdoc(func)\n",
            "    if doc is None:\n",
            "        wrapper = func\n",
            "    else:\n",
            "        wrapper = functools.wraps(func)(\n",
            "            lambda *args, **kwargs: func(*args, **kwargs))\n",
            "        wrapper.__doc__ = (\n",
            "            doc.replace(\"(n_samples, n_features)\", \"(n_samples, 1)\")\n",
            "            + _MULTINOMIALHMM_DOC_SUFFIX)\n",
            "    return wrapper\n",
            "\n",
            "\n",
            "class MultinomialHMM(_BaseHMM):\n",
            "    r\"\"\"Hidden Markov Model with multinomial (discrete) emissions.\n",
            "\n",
            "    Parameters\n",
            "    ----------\n",
            "\n",
            "    n_components : int\n",
            "        Number of states.\n",
            "\n",
            "    startprob_prior : array, shape (n_components, ), optional\n",
            "        Parameters of the Dirichlet prior distribution for\n",
            "        :attr:`startprob_`.\n",
            "\n",
            "    transmat_prior : array, shape (n_components, n_components), optional\n",
            "        Parameters of the Dirichlet prior distribution for each row\n",
            "        of the transition probabilities :attr:`transmat_`.\n",
            "\n",
            "    algorithm : string, optional\n",
            "        Decoder algorithm. Must be one of \"viterbi\" or \"map\".\n",
            "        Defaults to \"viterbi\".\n",
            "\n",
            "    random_state: RandomState or an int seed, optional\n",
            "        A random number generator instance.\n",
            "\n",
            "    n_iter : int, optional\n",
            "        Maximum number of iterations to perform.\n",
            "\n",
            "    tol : float, optional\n",
            "        Convergence threshold. EM will stop if the gain in log-likelihood\n",
            "        is below this value.\n",
            "\n",
            "    verbose : bool, optional\n",
            "        When ``True`` per-iteration convergence reports are printed\n",
            "        to :data:`sys.stderr`. You can diagnose convergence via the\n",
            "        :attr:`monitor_` attribute.\n",
            "\n",
            "    params : string, optional\n",
            "        Controls which parameters are updated in the training\n",
            "        process.  Can contain any combination of 's' for startprob,\n",
            "        't' for transmat, 'e' for emissionprob.\n",
            "        Defaults to all parameters.\n",
            "\n",
            "    init_params : string, optional\n",
            "        Controls which parameters are initialized prior to\n",
            "        training.  Can contain any combination of 's' for\n",
            "        startprob, 't' for transmat, 'e' for emissionprob.\n",
            "        Defaults to all parameters.\n",
            "\n",
            "    Attributes\n",
            "    ----------\n",
            "    n_features : int\n",
            "        Number of possible symbols emitted by the model (in the samples).\n",
            "\n",
            "    monitor\\_ : ConvergenceMonitor\n",
            "        Monitor object used to check the convergence of EM.\n",
            "\n",
            "    startprob\\_ : array, shape (n_components, )\n",
            "        Initial state occupation distribution.\n",
            "\n",
            "    transmat\\_ : array, shape (n_components, n_components)\n",
            "        Matrix of transition probabilities between states.\n",
            "\n",
            "    emissionprob\\_ : array, shape (n_components, n_features)\n",
            "        Probability of emitting a given symbol when in each state.\n",
            "\n",
            "    Examples\n",
            "    --------\n",
            "    >>> from hmmlearn.hmm import MultinomialHMM\n",
            "    >>> MultinomialHMM(n_components=2)  #doctest: +ELLIPSIS\n",
            "    MultinomialHMM(algorithm='viterbi',...\n",
            "    \"\"\"\n",
            "    # TODO: accept the prior on emissionprob_ for consistency.\n",
            "    def __init__(self, n_components=1,\n",
            "                 startprob_prior=1.0, transmat_prior=1.0,\n",
            "                 algorithm=\"viterbi\", random_state=None,\n",
            "                 n_iter=10, tol=1e-2, verbose=False,\n",
            "                 params=\"ste\", init_params=\"ste\"):\n",
            "        _BaseHMM.__init__(self, n_components,\n",
            "                          startprob_prior=startprob_prior,\n",
            "                          transmat_prior=transmat_prior,\n",
            "                          algorithm=algorithm,\n",
            "                          random_state=random_state,\n",
            "                          n_iter=n_iter, tol=tol, verbose=verbose,\n",
            "                          params=params, init_params=init_params)\n",
            "\n",
            "    score_samples, score, decode, predict, predict_proba, sample, fit = map(\n",
            "        _multinomialhmm_fix_docstring_shape, [\n",
            "            _BaseHMM.score_samples,\n",
            "            _BaseHMM.score,\n",
            "            _BaseHMM.decode,\n",
            "            _BaseHMM.predict,\n",
            "            _BaseHMM.predict_proba,\n",
            "            _BaseHMM.sample,\n",
            "            _BaseHMM.fit,\n",
            "        ])\n",
            "\n",
            "    def _get_n_fit_scalars_per_param(self):\n",
            "        nc = self.n_components\n",
            "        nf = self.n_features\n",
            "        return {\n",
            "            \"s\": nc - 1,\n",
            "            \"t\": nc * (nc - 1),\n",
            "            \"e\": nc * (nf - 1),\n",
            "        }\n",
            "\n",
            "    def _init(self, X, lengths=None):\n",
            "        self._check_and_set_n_features(X)\n",
            "        super()._init(X, lengths=lengths)\n",
            "        self.random_state = check_random_state(self.random_state)\n",
            "\n",
            "        if 'e' in self.init_params:\n",
            "            self.emissionprob_ = self.random_state \\\n",
            "                .rand(self.n_components, self.n_features)\n",
            "            normalize(self.emissionprob_, axis=1)\n",
            "\n",
            "    def _check(self):\n",
            "        super()._check()\n",
            "\n",
            "        self.emissionprob_ = np.atleast_2d(self.emissionprob_)\n",
            "        n_features = getattr(self, \"n_features\", self.emissionprob_.shape[1])\n",
            "        if self.emissionprob_.shape != (self.n_components, n_features):\n",
            "            raise ValueError(\n",
            "                \"emissionprob_ must have shape (n_components, n_features)\")\n",
            "        else:\n",
            "            self.n_features = n_features\n",
            "\n",
            "    def _compute_log_likelihood(self, X):\n",
            "        return log_mask_zero(self.emissionprob_)[:, np.concatenate(X)].T\n",
            "\n",
            "    def _generate_sample_from_state(self, state, random_state=None):\n",
            "        cdf = np.cumsum(self.emissionprob_[state, :])\n",
            "        random_state = check_random_state(random_state)\n",
            "        return [(cdf > random_state.rand()).argmax()]\n",
            "\n",
            "    def _initialize_sufficient_statistics(self):\n",
            "        stats = super()._initialize_sufficient_statistics()\n",
            "        stats['obs'] = np.zeros((self.n_components, self.n_features))\n",
            "        return stats\n",
            "\n",
            "    def _accumulate_sufficient_statistics(self, stats, X, framelogprob,\n",
            "                                          posteriors, fwdlattice, bwdlattice):\n",
            "        super()._accumulate_sufficient_statistics(\n",
            "            stats, X, framelogprob, posteriors, fwdlattice, bwdlattice)\n",
            "        if 'e' in self.params:\n",
            "            for t, symbol in enumerate(np.concatenate(X)):\n",
            "                stats['obs'][:, symbol] += posteriors[t]\n",
            "\n",
            "    def _do_mstep(self, stats):\n",
            "        super()._do_mstep(stats)\n",
            "        if 'e' in self.params:\n",
            "            self.emissionprob_ = (\n",
            "                stats['obs'] / stats['obs'].sum(axis=1, keepdims=True))\n",
            "\n",
            "    def _check_and_set_n_features(self, X):\n",
            "        \"\"\"\n",
            "        Check if ``X`` is a sample from a Multinomial distribution, i.e. an\n",
            "        array of non-negative integers.\n",
            "        \"\"\"\n",
            "        if not np.issubdtype(X.dtype, np.integer):\n",
            "            raise ValueError(\"Symbols should be integers\")\n",
            "        if X.min() < 0:\n",
            "            raise ValueError(\"Symbols should be nonnegative\")\n",
            "        if hasattr(self, \"n_features\"):\n",
            "            if self.n_features - 1 < X.max():\n",
            "                raise ValueError(\n",
            "                    \"Largest symbol is {} but the model only emits \"\n",
            "                    \"symbols up to {}\"\n",
            "                    .format(X.max(), self.n_features - 1))\n",
            "        self.n_features = X.max() + 1\n",
            "\n",
            "\n",
            "class GMMHMM(_BaseHMM):\n",
            "    r\"\"\"Hidden Markov Model with Gaussian mixture emissions.\n",
            "\n",
            "    Parameters\n",
            "    ----------\n",
            "    n_components : int\n",
            "        Number of states in the model.\n",
            "\n",
            "    n_mix : int\n",
            "        Number of states in the GMM.\n",
            "\n",
            "    covariance_type : string, optional\n",
            "        String describing the type of covariance parameters to\n",
            "        use.  Must be one of\n",
            "\n",
            "        * \"spherical\" --- each state uses a single variance value that\n",
            "          applies to all features.\n",
            "        * \"diag\" --- each state uses a diagonal covariance matrix.\n",
            "        * \"full\" --- each state uses a full (i.e. unrestricted)\n",
            "          covariance matrix.\n",
            "        * \"tied\" --- all mixture components of each state use **the same** full\n",
            "          covariance matrix (note that this is not the same as for\n",
            "          `GaussianHMM`).\n",
            "\n",
            "        Defaults to \"diag\".\n",
            "\n",
            "    min_covar : float, optional\n",
            "        Floor on the diagonal of the covariance matrix to prevent\n",
            "        overfitting. Defaults to 1e-3.\n",
            "\n",
            "    startprob_prior : array, shape (n_components, ), optional\n",
            "        Parameters of the Dirichlet prior distribution for\n",
            "        :attr:`startprob_`.\n",
            "\n",
            "    transmat_prior : array, shape (n_components, n_components), optional\n",
            "        Parameters of the Dirichlet prior distribution for each row\n",
            "        of the transition probabilities :attr:`transmat_`.\n",
            "\n",
            "    weights_prior : array, shape (n_mix, ), optional\n",
            "        Parameters of the Dirichlet prior distribution for\n",
            "        :attr:`weights_`.\n",
            "\n",
            "    means_prior, means_weight : array, shape (n_mix, ), optional\n",
            "        Mean and precision of the Normal prior distribtion for\n",
            "        :attr:`means_`.\n",
            "\n",
            "    covars_prior, covars_weight : array, shape (n_mix, ), optional\n",
            "        Parameters of the prior distribution for the covariance matrix\n",
            "        :attr:`covars_`.\n",
            "\n",
            "        If :attr:`covariance_type` is \"spherical\" or \"diag\" the prior is\n",
            "        the inverse gamma distribution, otherwise --- the inverse Wishart\n",
            "        distribution.\n",
            "\n",
            "    algorithm : string, optional\n",
            "        Decoder algorithm. Must be one of \"viterbi\" or \"map\".\n",
            "        Defaults to \"viterbi\".\n",
            "\n",
            "    random_state: RandomState or an int seed, optional\n",
            "        A random number generator instance.\n",
            "\n",
            "    n_iter : int, optional\n",
            "        Maximum number of iterations to perform.\n",
            "\n",
            "    tol : float, optional\n",
            "        Convergence threshold. EM will stop if the gain in log-likelihood\n",
            "        is below this value.\n",
            "\n",
            "    verbose : bool, optional\n",
            "        When ``True`` per-iteration convergence reports are printed\n",
            "        to :data:`sys.stderr`. You can diagnose convergence via the\n",
            "        :attr:`monitor_` attribute.\n",
            "\n",
            "    init_params : string, optional\n",
            "        Controls which parameters are initialized prior to training. Can\n",
            "        contain any combination of 's' for startprob, 't' for transmat, 'm'\n",
            "        for means, 'c' for covars, and 'w' for GMM mixing weights.\n",
            "        Defaults to all parameters.\n",
            "\n",
            "    params : string, optional\n",
            "        Controls which parameters are updated in the training process.  Can\n",
            "        contain any combination of 's' for startprob, 't' for transmat, 'm' for\n",
            "        means, and 'c' for covars, and 'w' for GMM mixing weights.\n",
            "        Defaults to all parameters.\n",
            "\n",
            "    Attributes\n",
            "    ----------\n",
            "    monitor\\_ : ConvergenceMonitor\n",
            "        Monitor object used to check the convergence of EM.\n",
            "\n",
            "    startprob\\_ : array, shape (n_components, )\n",
            "        Initial state occupation distribution.\n",
            "\n",
            "    transmat\\_ : array, shape (n_components, n_components)\n",
            "        Matrix of transition probabilities between states.\n",
            "\n",
            "    weights\\_ : array, shape (n_components, n_mix)\n",
            "        Mixture weights for each state.\n",
            "\n",
            "    means\\_ : array, shape (n_components, n_mix, n_features)\n",
            "        Mean parameters for each mixture component in each state.\n",
            "\n",
            "    covars\\_ : array\n",
            "        Covariance parameters for each mixture components in each state.\n",
            "\n",
            "        The shape depends on :attr:`covariance_type`::\n",
            "\n",
            "            (n_components, n_mix)                          if \"spherical\",\n",
            "            (n_components, n_mix, n_features)              if \"diag\",\n",
            "            (n_components, n_mix, n_features, n_features)  if \"full\"\n",
            "            (n_components, n_features, n_features)         if \"tied\",\n",
            "    \"\"\"\n",
            "\n",
            "    def __init__(self, n_components=1, n_mix=1,\n",
            "                 min_covar=1e-3, startprob_prior=1.0, transmat_prior=1.0,\n",
            "                 weights_prior=1.0, means_prior=0.0, means_weight=0.0,\n",
            "                 covars_prior=None, covars_weight=None,\n",
            "                 algorithm=\"viterbi\", covariance_type=\"diag\",\n",
            "                 random_state=None, n_iter=10, tol=1e-2,\n",
            "                 verbose=False, params=\"stmcw\",\n",
            "                 init_params=\"stmcw\"):\n",
            "        _BaseHMM.__init__(self, n_components,\n",
            "                          startprob_prior=startprob_prior,\n",
            "                          transmat_prior=transmat_prior,\n",
            "                          algorithm=algorithm, random_state=random_state,\n",
            "                          n_iter=n_iter, tol=tol, verbose=verbose,\n",
            "                          params=params, init_params=init_params)\n",
            "        self.covariance_type = covariance_type\n",
            "        self.min_covar = min_covar\n",
            "        self.n_mix = n_mix\n",
            "        self.weights_prior = weights_prior\n",
            "        self.means_prior = means_prior\n",
            "        self.means_weight = means_weight\n",
            "        self.covars_prior = covars_prior\n",
            "        self.covars_weight = covars_weight\n",
            "\n",
            "    def _get_n_fit_scalars_per_param(self):\n",
            "        nc = self.n_components\n",
            "        nf = self.n_features\n",
            "        nm = self.n_mix\n",
            "        return {\n",
            "            \"s\": nc - 1,\n",
            "            \"t\": nc * (nc - 1),\n",
            "            \"m\": nc * nm * nf,\n",
            "            \"c\": {\n",
            "                \"spherical\": nc * nm,\n",
            "                \"diag\": nc * nm * nf,\n",
            "                \"full\": nc * nm * nf * (nf + 1) // 2,\n",
            "                \"tied\": nc * nf * (nf + 1) // 2,\n",
            "            }[self.covariance_type],\n",
            "            \"w\": nm - 1,\n",
            "        }\n",
            "\n",
            "    def _init(self, X, lengths=None):\n",
            "        _check_and_set_gaussian_n_features(self, X)\n",
            "        super()._init(X, lengths=lengths)\n",
            "        nc = self.n_components\n",
            "        nf = self.n_features\n",
            "        nm = self.n_mix\n",
            "\n",
            "        # Default values for covariance prior parameters\n",
            "        self._init_covar_priors()\n",
            "        self._fix_priors_shape()\n",
            "\n",
            "        main_kmeans = cluster.KMeans(n_clusters=nc,\n",
            "                                     random_state=self.random_state)\n",
            "        labels = main_kmeans.fit_predict(X)\n",
            "        kmeanses = []\n",
            "        for label in range(nc):\n",
            "            kmeans = cluster.KMeans(n_clusters=nm,\n",
            "                                    random_state=self.random_state)\n",
            "            kmeans.fit(X[np.where(labels == label)])\n",
            "            kmeanses.append(kmeans)\n",
            "\n",
            "        if self._needs_init(\"w\", \"weights_\"):\n",
            "            self.weights_ = np.full((nc, nm), 1 / nm)\n",
            "\n",
            "        if self._needs_init(\"m\", \"means_\"):\n",
            "            self.means_ = np.stack(\n",
            "                [kmeans.cluster_centers_ for kmeans in kmeanses])\n",
            "\n",
            "        if self._needs_init(\"c\", \"covars_\"):\n",
            "            cv = np.cov(X.T) + self.min_covar * np.eye(nf)\n",
            "            if not cv.shape:\n",
            "                cv.shape = (1, 1)\n",
            "            if self.covariance_type == 'tied':\n",
            "                self.covars_ = np.zeros((nc, nf, nf))\n",
            "                self.covars_[:] = cv\n",
            "            elif self.covariance_type == 'full':\n",
            "                self.covars_ = np.zeros((nc, nm, nf, nf))\n",
            "                self.covars_[:] = cv\n",
            "            elif self.covariance_type == 'diag':\n",
            "                self.covars_ = np.zeros((nc, nm, nf))\n",
            "                self.covars_[:] = np.diag(cv)\n",
            "            elif self.covariance_type == 'spherical':\n",
            "                self.covars_ = np.zeros((nc, nm))\n",
            "                self.covars_[:] = cv.mean()\n",
            "\n",
            "    def _init_covar_priors(self):\n",
            "        if self.covariance_type == \"full\":\n",
            "            if self.covars_prior is None:\n",
            "                self.covars_prior = 0.0\n",
            "            if self.covars_weight is None:\n",
            "                self.covars_weight = -(1.0 + self.n_features + 1.0)\n",
            "        elif self.covariance_type == \"tied\":\n",
            "            if self.covars_prior is None:\n",
            "                self.covars_prior = 0.0\n",
            "            if self.covars_weight is None:\n",
            "                self.covars_weight = -(self.n_mix + self.n_features + 1.0)\n",
            "        elif self.covariance_type == \"diag\":\n",
            "            if self.covars_prior is None:\n",
            "                self.covars_prior = -1.5\n",
            "            if self.covars_weight is None:\n",
            "                self.covars_weight = 0.0\n",
            "        elif self.covariance_type == \"spherical\":\n",
            "            if self.covars_prior is None:\n",
            "                self.covars_prior = -(self.n_mix + 2.0) / 2.0\n",
            "            if self.covars_weight is None:\n",
            "                self.covars_weight = 0.0\n",
            "\n",
            "    def _fix_priors_shape(self):\n",
            "        nc = self.n_components\n",
            "        nf = self.n_features\n",
            "        nm = self.n_mix\n",
            "\n",
            "        # If priors are numbers, this function will make them into a\n",
            "        # matrix of proper shape\n",
            "        self.weights_prior = np.broadcast_to(\n",
            "            self.weights_prior, (nc, nm)).copy()\n",
            "        self.means_prior = np.broadcast_to(\n",
            "            self.means_prior, (nc, nm, nf)).copy()\n",
            "        self.means_weight = np.broadcast_to(\n",
            "            self.means_weight, (nc, nm)).copy()\n",
            "\n",
            "        if self.covariance_type == \"full\":\n",
            "            self.covars_prior = np.broadcast_to(\n",
            "                self.covars_prior, (nc, nm, nf, nf)).copy()\n",
            "            self.covars_weight = np.broadcast_to(\n",
            "                self.covars_weight, (nc, nm)).copy()\n",
            "        elif self.covariance_type == \"tied\":\n",
            "            self.covars_prior = np.broadcast_to(\n",
            "                self.covars_prior, (nc, nf, nf)).copy()\n",
            "            self.covars_weight = np.broadcast_to(\n",
            "                self.covars_weight, nc).copy()\n",
            "        elif self.covariance_type == \"diag\":\n",
            "            self.covars_prior = np.broadcast_to(\n",
            "                self.covars_prior, (nc, nm, nf)).copy()\n",
            "            self.covars_weight = np.broadcast_to(\n",
            "                self.covars_weight, (nc, nm, nf)).copy()\n",
            "        elif self.covariance_type == \"spherical\":\n",
            "            self.covars_prior = np.broadcast_to(\n",
            "                self.covars_prior, (nc, nm)).copy()\n",
            "            self.covars_weight = np.broadcast_to(\n",
            "                self.covars_weight, (nc, nm)).copy()\n",
            "\n",
            "    def _check(self):\n",
            "        super()._check()\n",
            "        if not hasattr(self, \"n_features\"):\n",
            "            self.n_features = self.means_.shape[2]\n",
            "        nc = self.n_components\n",
            "        nf = self.n_features\n",
            "        nm = self.n_mix\n",
            "\n",
            "        self._init_covar_priors()\n",
            "        self._fix_priors_shape()\n",
            "\n",
            "        # Checking covariance type\n",
            "        if self.covariance_type not in COVARIANCE_TYPES:\n",
            "            raise ValueError(\"covariance_type must be one of {}\"\n",
            "                             .format(COVARIANCE_TYPES))\n",
            "\n",
            "        self.weights_ = np.array(self.weights_)\n",
            "        # Checking mixture weights' shape\n",
            "        if self.weights_.shape != (nc, nm):\n",
            "            raise ValueError(\"mixture weights must have shape \"\n",
            "                             \"(n_components, n_mix), actual shape: {}\"\n",
            "                             .format(self.weights_.shape))\n",
            "\n",
            "        # Checking mixture weights' mathematical correctness\n",
            "        if not np.allclose(self.weights_.sum(axis=1), 1):\n",
            "            raise ValueError(\"mixture weights must sum up to 1\")\n",
            "\n",
            "        # Checking means' shape\n",
            "        self.means_ = np.array(self.means_)\n",
            "        if self.means_.shape != (nc, nm, nf):\n",
            "            raise ValueError(\"mixture means must have shape \"\n",
            "                             \"(n_components, n_mix, n_features), \"\n",
            "                             \"actual shape: {}\".format(self.means_.shape))\n",
            "\n",
            "        # Checking covariances' shape\n",
            "        self.covars_ = np.array(self.covars_)\n",
            "        covars_shape = self.covars_.shape\n",
            "        needed_shapes = {\n",
            "            \"spherical\": (nc, nm),\n",
            "            \"tied\": (nc, nf, nf),\n",
            "            \"diag\": (nc, nm, nf),\n",
            "            \"full\": (nc, nm, nf, nf),\n",
            "        }\n",
            "        needed_shape = needed_shapes[self.covariance_type]\n",
            "        if covars_shape != needed_shape:\n",
            "            raise ValueError(\"{!r} mixture covars must have shape {}, \"\n",
            "                             \"actual shape: {}\"\n",
            "                             .format(self.covariance_type,\n",
            "                                     needed_shape, covars_shape))\n",
            "\n",
            "        # Checking covariances' mathematical correctness\n",
            "        if (self.covariance_type == \"spherical\" or\n",
            "                self.covariance_type == \"diag\"):\n",
            "            if np.any(self.covars_ < 0):\n",
            "                raise ValueError(\"{!r} mixture covars must be non-negative\"\n",
            "                                 .format(self.covariance_type))\n",
            "            if np.any(self.covars_ == 0):\n",
            "                _log.warning(\"Degenerate mixture covariance\")\n",
            "        elif self.covariance_type == \"tied\":\n",
            "            for i, covar in enumerate(self.covars_):\n",
            "                if not np.allclose(covar, covar.T):\n",
            "                    raise ValueError(\"Covariance of state #{} is not symmetric\"\n",
            "                                     .format(i))\n",
            "                min_eigvalsh = linalg.eigvalsh(covar).min()\n",
            "                if min_eigvalsh < 0:\n",
            "                    raise ValueError(\"Covariance of state #{} is not positive \"\n",
            "                                     \"definite\".format(i))\n",
            "                if min_eigvalsh == 0:\n",
            "                    _log.warning(\"Covariance of state #%d has a null \"\n",
            "                                 \"eigenvalue.\", i)\n",
            "        elif self.covariance_type == \"full\":\n",
            "            for i, mix_covars in enumerate(self.covars_):\n",
            "                for j, covar in enumerate(mix_covars):\n",
            "                    if not np.allclose(covar, covar.T):\n",
            "                        raise ValueError(\n",
            "                            \"Covariance of state #{}, mixture #{} is not \"\n",
            "                            \"symmetric\".format(i, j))\n",
            "                    min_eigvalsh = linalg.eigvalsh(covar).min()\n",
            "                    if min_eigvalsh < 0:\n",
            "                        raise ValueError(\n",
            "                            \"Covariance of state #{}, mixture #{} is not \"\n",
            "                            \"positive definite\".format(i, j))\n",
            "                    if min_eigvalsh == 0:\n",
            "                        _log.warning(\"Covariance of state #%d, mixture #%d \"\n",
            "                                     \"has a null eigenvalue.\", i, j)\n",
            "\n",
            "    def _generate_sample_from_state(self, state, random_state=None):\n",
            "        if random_state is None:\n",
            "            random_state = self.random_state\n",
            "        random_state = check_random_state(random_state)\n",
            "\n",
            "        cur_weights = self.weights_[state]\n",
            "        i_gauss = random_state.choice(self.n_mix, p=cur_weights)\n",
            "        if self.covariance_type == 'tied':\n",
            "            # self.covars_.shape == (n_components, n_features, n_features)\n",
            "            # shouldn't that be (n_mix, ...)?\n",
            "            covs = self.covars_\n",
            "        else:\n",
            "            covs = self.covars_[:, i_gauss]\n",
            "            covs = fill_covars(covs, self.covariance_type,\n",
            "                               self.n_components, self.n_features)\n",
            "        return random_state.multivariate_normal(\n",
            "            self.means_[state, i_gauss], covs[state]\n",
            "        )\n",
            "\n",
            "    def _compute_log_weighted_gaussian_densities(self, X, i_comp):\n",
            "        cur_means = self.means_[i_comp]\n",
            "        cur_covs = self.covars_[i_comp]\n",
            "        if self.covariance_type == 'spherical':\n",
            "            cur_covs = cur_covs[:, None]\n",
            "        log_cur_weights = np.log(self.weights_[i_comp])\n",
            "\n",
            "        return log_multivariate_normal_density(\n",
            "            X, cur_means, cur_covs, self.covariance_type\n",
            "        ) + log_cur_weights\n",
            "\n",
            "    def _compute_log_likelihood(self, X):\n",
            "        n_samples, _ = X.shape\n",
            "        res = np.zeros((n_samples, self.n_components))\n",
            "\n",
            "        for i in range(self.n_components):\n",
            "            log_denses = self._compute_log_weighted_gaussian_densities(X, i)\n",
            "            with np.errstate(under=\"ignore\"):\n",
            "                res[:, i] = special.logsumexp(log_denses, axis=1)\n",
            "\n",
            "        return res\n",
            "\n",
            "    def _initialize_sufficient_statistics(self):\n",
            "        stats = super()._initialize_sufficient_statistics()\n",
            "        stats['n_samples'] = 0\n",
            "        stats['post_comp_mix'] = None\n",
            "        stats['post_mix_sum'] = np.zeros((self.n_components, self.n_mix))\n",
            "        stats['post_sum'] = np.zeros(self.n_components)\n",
            "        stats['samples'] = None\n",
            "        stats['centered'] = None\n",
            "        return stats\n",
            "\n",
            "    def _accumulate_sufficient_statistics(self, stats, X, framelogprob,\n",
            "                                          post_comp, fwdlattice, bwdlattice):\n",
            "\n",
            "        # TODO: support multiple frames\n",
            "\n",
            "        super()._accumulate_sufficient_statistics(\n",
            "            stats, X, framelogprob, post_comp, fwdlattice, bwdlattice\n",
            "        )\n",
            "\n",
            "        n_samples, _ = X.shape\n",
            "\n",
            "        stats['n_samples'] = n_samples\n",
            "        stats['samples'] = X\n",
            "\n",
            "        post_mix = np.zeros((n_samples, self.n_components, self.n_mix))\n",
            "        for p in range(self.n_components):\n",
            "            log_denses = self._compute_log_weighted_gaussian_densities(X, p)\n",
            "            log_normalize(log_denses, axis=-1)\n",
            "            with np.errstate(under=\"ignore\"):\n",
            "                post_mix[:, p, :] = np.exp(log_denses)\n",
            "\n",
            "        with np.errstate(under=\"ignore\"):\n",
            "            post_comp_mix = post_comp[:, :, None] * post_mix\n",
            "        stats['post_comp_mix'] = post_comp_mix\n",
            "\n",
            "        stats['post_mix_sum'] = post_comp_mix.sum(axis=0)\n",
            "        stats['post_sum'] = post_comp.sum(axis=0)\n",
            "\n",
            "        stats['centered'] = X[:, None, None, :] - self.means_\n",
            "\n",
            "    def _do_mstep(self, stats):\n",
            "        super()._do_mstep(stats)\n",
            "        nc = self.n_components\n",
            "        nf = self.n_features\n",
            "        nm = self.n_mix\n",
            "\n",
            "        # Maximizing weights\n",
            "        if 'w' in self.params:\n",
            "            alphas_minus_one = self.weights_prior - 1\n",
            "            w_n = stats['post_mix_sum'] + alphas_minus_one\n",
            "            w_d = (stats['post_sum'] + alphas_minus_one.sum(axis=1))[:, None]\n",
            "            self.weights_ = w_n / w_d\n",
            "\n",
            "        # Maximizing means\n",
            "        if 'm' in self.params:\n",
            "            lambdas, mus = self.means_weight, self.means_prior\n",
            "            m_n = (\n",
            "                np.einsum('ijk,il->jkl',\n",
            "                          stats['post_comp_mix'], stats['samples'])\n",
            "                + lambdas[:, :, None] * mus\n",
            "            )\n",
            "            m_d = stats['post_mix_sum'] + lambdas\n",
            "            # If a componenent has zero weight, then replace nan (0/0?) means\n",
            "            # by 0 (0/1).  The actual value is irrelevant as the component will\n",
            "            # be unused.  This needs to be done before maximizing covariances\n",
            "            # as nans would otherwise propagate to other components if\n",
            "            # covariances are tied.\n",
            "            m_d[(self.weights_ == 0) & (m_n == 0).all(axis=-1)] = 1\n",
            "            self.means_ = m_n / m_d[:, :, None]\n",
            "\n",
            "        # Maximizing covariances\n",
            "        if 'c' in self.params:\n",
            "            centered_means = self.means_ - mus\n",
            "\n",
            "            def outer_f(x):  # Outer product over features.\n",
            "                return x[..., :, None] * x[..., None, :]\n",
            "\n",
            "            if self.covariance_type == 'full':\n",
            "                centered_dots = outer_f(stats['centered'])\n",
            "                centered_means_dots = outer_f(centered_means)\n",
            "\n",
            "                psis_t = np.transpose(self.covars_prior, axes=(0, 1, 3, 2))\n",
            "                nus = self.covars_weight\n",
            "\n",
            "                c_n = (\n",
            "                    np.einsum('ijk,ijklm->jklm',\n",
            "                              stats['post_comp_mix'], centered_dots)\n",
            "                    + psis_t\n",
            "                    + lambdas[:, :, None, None] * centered_means_dots\n",
            "                )\n",
            "                c_d = (\n",
            "                    stats['post_mix_sum'] + 1 + nus + nf + 1\n",
            "                )[:, :, None, None]\n",
            "\n",
            "            elif self.covariance_type == 'diag':\n",
            "                centered2 = stats['centered'] ** 2\n",
            "                centered_means2 = centered_means ** 2\n",
            "\n",
            "                alphas = self.covars_prior\n",
            "                betas = self.covars_weight\n",
            "\n",
            "                c_n = (\n",
            "                    np.einsum('ijk,ijkl->jkl',\n",
            "                              stats['post_comp_mix'], centered2)\n",
            "                    + lambdas[:, :, None] * centered_means2\n",
            "                    + 2 * betas\n",
            "                )\n",
            "                c_d = stats['post_mix_sum'][:, :, None] + 1 + 2 * (alphas + 1)\n",
            "\n",
            "            elif self.covariance_type == 'spherical':\n",
            "                centered_norm2 = (stats['centered'] ** 2).sum(axis=-1)\n",
            "                centered_means_norm2 = (centered_means ** 2).sum(axis=-1)\n",
            "\n",
            "                alphas = self.covars_prior\n",
            "                betas = self.covars_weight\n",
            "\n",
            "                c_n = (\n",
            "                    np.einsum(\n",
            "                        'ijk,ijk->jk', stats['post_comp_mix'], centered_norm2)\n",
            "                    + lambdas * centered_means_norm2\n",
            "                    + 2 * betas\n",
            "                )\n",
            "                c_d = nf * (stats['post_mix_sum'] + 1) + 2 * (alphas + 1)\n",
            "\n",
            "            elif self.covariance_type == 'tied':\n",
            "                centered_dots = outer_f(stats['centered'])\n",
            "                centered_means_dots = outer_f(centered_means)\n",
            "\n",
            "                psis_t = np.transpose(self.covars_prior, axes=(0, 2, 1))\n",
            "                nus = self.covars_weight\n",
            "\n",
            "                c_n = (\n",
            "                    np.einsum('ijk,ijklm->jlm',\n",
            "                              stats['post_comp_mix'], centered_dots)\n",
            "                    + np.einsum('ij,ijkl->ikl', lambdas, centered_means_dots)\n",
            "                    + psis_t\n",
            "                )\n",
            "                c_d = (stats['post_sum'] + nm + nus + nf + 1)[:, None, None]\n",
            "\n",
            "            self.covars_ = c_n / c_d\n",
            "\n"
          ],
          "name": "stdout"
        }
      ]
    },
    {
      "cell_type": "code",
      "metadata": {
        "id": "XGl4jZNuxivK"
      },
      "source": [
        "model = hmm.GaussianHMM(n_components=3, covariance_type=\"full\")\n",
        "#Initial state occupation distribution.\n",
        "model.startprob_ = np.array([0.6, 0.3, 0.1])\n",
        "# Matrix of transition probabilities between states：这里导入IBL数据作为转移概率学习\n",
        "model.transmat_ = np.array([[0.7, 0.2, 0.1],\n",
        "               [0.3, 0.5, 0.2],\n",
        "               [0.3, 0.3, 0.4]])\n",
        "model.means_ = np.array([[0.0, 0.0], [3.0, -3.0], [5.0, 10.0]])\n",
        "'''\n",
        "Covariance parameters for each state.\n",
        "The shape depends on :attr:`covariance_type`::\n",
        "(n_components, )      if \"spherical\",\n",
        "(n_components, n_features) if \"diag\",\n",
        "(n_components, n_features, n_features)  if \"full\"\n",
        "(n_features, n_features)          if \"tied\",\n",
        "'''\n",
        "model.covars_ = np.tile(np.identity(2), (3, 1, 1))\n",
        "X, Z = model.sample(100)"
      ],
      "execution_count": null,
      "outputs": []
    },
    {
      "cell_type": "code",
      "metadata": {
        "colab": {
          "base_uri": "https://localhost:8080/",
          "height": 265
        },
        "id": "GFBaoBdy1CBq",
        "outputId": "ca25fa18-dd78-479e-afd3-30a73f52c63f"
      },
      "source": [
        "# Generate samples\n",
        "X, Z = model.sample(500)\n",
        "\n",
        "# Plot the sampled data\n",
        "plt.plot(X[:, 0], X[:, 1], \".-\", label=\"observations\", ms=7,\n",
        "         mfc=\"orange\", alpha=0.9)\n",
        "\n",
        "# Indicate the component numbers\n",
        "for i, m in enumerate(model.means_):\n",
        "    plt.text(m[0], m[1], 'Component %i' % (i + 1),\n",
        "             size=17, horizontalalignment='center',\n",
        "             bbox=dict(alpha=.7, facecolor='w'))\n",
        "plt.legend(loc='best')\n",
        "plt.show()"
      ],
      "execution_count": null,
      "outputs": [
        {
          "output_type": "display_data",
          "data": {
            "image/png": "[encoded data removed]",
            "text/plain": [
              "<Figure size 432x288 with 1 Axes>"
            ]
          },
          "metadata": {
            "tags": [],
            "needs_background": "light"
          }
        }
      ]
    },
    {
      "cell_type": "code",
      "metadata": {
        "colab": {
          "base_uri": "https://localhost:8080/"
        },
        "id": "YjDIa7YUf1vM",
        "outputId": "0bbaeebb-6986-4fc6-8be0-2240e1557e72"
      },
      "source": [
        "pi = {'Healthy': 0.6, 'Fever': 0.4} #初始状态矩阵\n",
        "\n",
        "\n",
        "A = {\n",
        "   'Healthy' : {'Healthy': 0.7, 'Fever': 0.3},\n",
        "   'Fever' : {'Healthy': 0.4, 'Fever': 0.6},\n",
        "   } #状态矩阵\n",
        "\n",
        "B =  {\n",
        "   'Healthy' : {'normal': 0.5, 'cold': 0.4, 'dizzy': 0.1},\n",
        "   'Fever' : {'normal': 0.1, 'cold': 0.3, 'dizzy': 0.6},\n",
        "} # 发射矩阵\n",
        "print (A)"
      ],
      "execution_count": null,
      "outputs": [
        {
          "output_type": "stream",
          "text": [
            "{'Healthy': {'Healthy': 0.7, 'Fever': 0.3}, 'Fever': {'Healthy': 0.4, 'Fever': 0.6}}\n"
          ],
          "name": "stdout"
        }
      ]
    },
    {
      "cell_type": "markdown",
      "metadata": {
        "id": "9AR3JQG6f9Ih"
      },
      "source": [
        "For evaluation models, predictive models and learning models, the way we solve them is different.\n",
        "Our final observation corresponds to the observed value-not the state value.\n",
        "Use EM (Expectation-maximization) algorithm-to learn the required parameters:"
      ]
    },
    {
      "cell_type": "code",
      "metadata": {
        "colab": {
          "base_uri": "https://localhost:8080/",
          "height": 250
        },
        "id": "afJHbB8sgA_i",
        "outputId": "aaeebfe6-4223-47ab-b137-c3be556bb4cb"
      },
      "source": [
        "class HMM(object):\n",
        "    def fit(self, X):\n",
        "        '''\n",
        "        根据给定观测序列反推参数\n",
        "        '''\n",
        "        # 初始化参数 pi, A, B\n",
        "        self.pi = np.random.sample(self.N)\n",
        "        self.A = np.ones((self.N,self.N)) / self.N\n",
        "        self.B = np.ones((self.N,self.M)) / self.M\n",
        "        self.pi = self.pi / self.pi.sum()\n",
        "        T = len(X)\n",
        "        for _ in range(50):\n",
        "            # 按公式计算下一时刻的参数\n",
        "            alpha, beta = self.get_something(X)\n",
        "            gamma = alpha * beta\n",
        "\n",
        "            for i in range(self.N):\n",
        "                for j in range(self.N):\n",
        "                    self.A[i,j] = np.sum(alpha[:-1,i]*beta[1:,j]*self.A[i,j]*self.B[j,X[1:]]) / gamma[:-1,i].sum()\n",
        "\n",
        "            for j in range(self.N):\n",
        "                for k in range(self.M):\n",
        "                    self.B[j,k] = np.sum(gamma[:,j]*(X == k)) / gamma[:,j].sum()\n",
        "            \n",
        "            self.pi = gamma[0] / gamma[-1].sum()\n",
        "\n",
        "\n",
        "    def get_something(self, X):\n",
        "        '''\n",
        "        根据给定数据与参数，计算所有时刻的前向概率和后向概率\n",
        "        '''\n",
        "        T = len(X)\n",
        "        alpha = np.zeros((T,self.N))\n",
        "        alpha[0,:] = self.pi * self.B[:,X[0]]\n",
        "        for i in range(T-1):\n",
        "            x = X[i+1]\n",
        "            alpha[i+1,:] = np.sum(self.A * alpha[i].reshape(-1,1) * self.B[:,x].reshape(1,-1), axis=0)\n",
        "\n",
        "        beta = np.ones((T,self.N))\n",
        "        for j in range(T-1,0,-1):\n",
        "            for i in range(self.N):\n",
        "                beta[j-1,i] = np.sum(self.A[i,:] * self.B[:,X[j]] * beta[j])\n",
        "\n",
        "        return alpha, beta\n",
        "\n",
        "if __name__ == \"__main__\":\n",
        "    import matplotlib.pyplot as plt\n",
        "    import numpy as np\n",
        "    def triangle_data(T):   # 生成三角波形状的序列\n",
        "        data = []\n",
        "        for x in range(T):\n",
        "            x = x % 6\n",
        "            data.append(x if x <= 3 else 6-x)\n",
        "        return data\n",
        "    \n",
        "    data = np.array(triangle_data(30))\n",
        "    print (data)\n",
        "    hmm = HMM(10,4)\n",
        "    hmm.fit(data)               # 先根据给定数据反推参数\n",
        "    gen_obs = hmm.generate(30)  # 再根据学习的参数生成数据\n",
        "    x = np.arange(30)\n",
        "    plt.scatter(x, gen_obs, marker='*', color='r')\n",
        "    plt.plot(x, data, color='g')\n",
        "    plt.show()"
      ],
      "execution_count": null,
      "outputs": [
        {
          "output_type": "stream",
          "text": [
            "[0 1 2 3 2 1 0 1 2 3 2 1 0 1 2 3 2 1 0 1 2 3 2 1 0 1 2 3 2 1]\n"
          ],
          "name": "stdout"
        },
        {
          "output_type": "error",
          "ename": "TypeError",
          "evalue": "ignored",
          "traceback": [
            "\u001b[0;31m---------------------------------------------------------------------------\u001b[0m",
            "\u001b[0;31mTypeError\u001b[0m                                 Traceback (most recent call last)",
            "\u001b[0;32m<ipython-input-1-1d2ac207866d>\u001b[0m in \u001b[0;36m<module>\u001b[0;34m()\u001b[0m\n\u001b[1;32m     56\u001b[0m     \u001b[0mdata\u001b[0m \u001b[0;34m=\u001b[0m \u001b[0mnp\u001b[0m\u001b[0;34m.\u001b[0m\u001b[0marray\u001b[0m\u001b[0;34m(\u001b[0m\u001b[0mtriangle_data\u001b[0m\u001b[0;34m(\u001b[0m\u001b[0;36m30\u001b[0m\u001b[0;34m)\u001b[0m\u001b[0;34m)\u001b[0m\u001b[0;34m\u001b[0m\u001b[0;34m\u001b[0m\u001b[0m\n\u001b[1;32m     57\u001b[0m     \u001b[0mprint\u001b[0m \u001b[0;34m(\u001b[0m\u001b[0mdata\u001b[0m\u001b[0;34m)\u001b[0m\u001b[0;34m\u001b[0m\u001b[0;34m\u001b[0m\u001b[0m\n\u001b[0;32m---> 58\u001b[0;31m     \u001b[0mhmm\u001b[0m \u001b[0;34m=\u001b[0m \u001b[0mHMM\u001b[0m\u001b[0;34m(\u001b[0m\u001b[0;36m10\u001b[0m\u001b[0;34m,\u001b[0m\u001b[0;36m4\u001b[0m\u001b[0;34m)\u001b[0m\u001b[0;34m\u001b[0m\u001b[0;34m\u001b[0m\u001b[0m\n\u001b[0m\u001b[1;32m     59\u001b[0m     \u001b[0mhmm\u001b[0m\u001b[0;34m.\u001b[0m\u001b[0mfit\u001b[0m\u001b[0;34m(\u001b[0m\u001b[0mdata\u001b[0m\u001b[0;34m)\u001b[0m               \u001b[0;31m# 先根据给定数据反推参数\u001b[0m\u001b[0;34m\u001b[0m\u001b[0;34m\u001b[0m\u001b[0m\n\u001b[1;32m     60\u001b[0m     \u001b[0mgen_obs\u001b[0m \u001b[0;34m=\u001b[0m \u001b[0mhmm\u001b[0m\u001b[0;34m.\u001b[0m\u001b[0mgenerate\u001b[0m\u001b[0;34m(\u001b[0m\u001b[0;36m30\u001b[0m\u001b[0;34m)\u001b[0m  \u001b[0;31m# 再根据学习的参数生成数据\u001b[0m\u001b[0;34m\u001b[0m\u001b[0;34m\u001b[0m\u001b[0m\n",
            "\u001b[0;31mTypeError\u001b[0m: HMM() takes no arguments"
          ]
        }
      ]
    }
  ]
}